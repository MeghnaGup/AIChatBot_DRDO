{
  "cells": [
    {
      "cell_type": "markdown",
      "metadata": {
        "id": "view-in-github",
        "colab_type": "text"
      },
      "source": [
        "<a href=\"https://colab.research.google.com/github/MeghnaGup/AIChatBot_DRDO/blob/main/AIChatbot_DRDO.ipynb\" target=\"_parent\"><img src=\"https://colab.research.google.com/assets/colab-badge.svg\" alt=\"Open In Colab\"/></a>"
      ]
    },
    {
      "cell_type": "code",
      "execution_count": null,
      "metadata": {
        "colab": {
          "base_uri": "https://localhost:8080/"
        },
        "id": "qTaH_cuNTu_Q",
        "outputId": "a0ce2a59-246c-4c99-cc47-21d01f0554bf"
      },
      "outputs": [
        {
          "name": "stdout",
          "output_type": "stream",
          "text": [
            "Requirement already satisfied: requests in /usr/local/lib/python3.11/dist-packages (2.32.3)\n",
            "Requirement already satisfied: beautifulsoup4 in /usr/local/lib/python3.11/dist-packages (4.13.3)\n",
            "Requirement already satisfied: transformers in /usr/local/lib/python3.11/dist-packages (4.49.0)\n",
            "Requirement already satisfied: flask in /usr/local/lib/python3.11/dist-packages (3.1.0)\n",
            "Requirement already satisfied: charset-normalizer<4,>=2 in /usr/local/lib/python3.11/dist-packages (from requests) (3.4.1)\n",
            "Requirement already satisfied: idna<4,>=2.5 in /usr/local/lib/python3.11/dist-packages (from requests) (3.10)\n",
            "Requirement already satisfied: urllib3<3,>=1.21.1 in /usr/local/lib/python3.11/dist-packages (from requests) (2.3.0)\n",
            "Requirement already satisfied: certifi>=2017.4.17 in /usr/local/lib/python3.11/dist-packages (from requests) (2025.1.31)\n",
            "Requirement already satisfied: soupsieve>1.2 in /usr/local/lib/python3.11/dist-packages (from beautifulsoup4) (2.6)\n",
            "Requirement already satisfied: typing-extensions>=4.0.0 in /usr/local/lib/python3.11/dist-packages (from beautifulsoup4) (4.12.2)\n",
            "Requirement already satisfied: filelock in /usr/local/lib/python3.11/dist-packages (from transformers) (3.18.0)\n",
            "Requirement already satisfied: huggingface-hub<1.0,>=0.26.0 in /usr/local/lib/python3.11/dist-packages (from transformers) (0.29.3)\n",
            "Requirement already satisfied: numpy>=1.17 in /usr/local/lib/python3.11/dist-packages (from transformers) (2.0.2)\n",
            "Requirement already satisfied: packaging>=20.0 in /usr/local/lib/python3.11/dist-packages (from transformers) (24.2)\n",
            "Requirement already satisfied: pyyaml>=5.1 in /usr/local/lib/python3.11/dist-packages (from transformers) (6.0.2)\n",
            "Requirement already satisfied: regex!=2019.12.17 in /usr/local/lib/python3.11/dist-packages (from transformers) (2024.11.6)\n",
            "Requirement already satisfied: tokenizers<0.22,>=0.21 in /usr/local/lib/python3.11/dist-packages (from transformers) (0.21.1)\n",
            "Requirement already satisfied: safetensors>=0.4.1 in /usr/local/lib/python3.11/dist-packages (from transformers) (0.5.3)\n",
            "Requirement already satisfied: tqdm>=4.27 in /usr/local/lib/python3.11/dist-packages (from transformers) (4.67.1)\n",
            "Requirement already satisfied: Werkzeug>=3.1 in /usr/local/lib/python3.11/dist-packages (from flask) (3.1.3)\n",
            "Requirement already satisfied: Jinja2>=3.1.2 in /usr/local/lib/python3.11/dist-packages (from flask) (3.1.6)\n",
            "Requirement already satisfied: itsdangerous>=2.2 in /usr/local/lib/python3.11/dist-packages (from flask) (2.2.0)\n",
            "Requirement already satisfied: click>=8.1.3 in /usr/local/lib/python3.11/dist-packages (from flask) (8.1.8)\n",
            "Requirement already satisfied: blinker>=1.9 in /usr/local/lib/python3.11/dist-packages (from flask) (1.9.0)\n",
            "Requirement already satisfied: fsspec>=2023.5.0 in /usr/local/lib/python3.11/dist-packages (from huggingface-hub<1.0,>=0.26.0->transformers) (2025.3.0)\n",
            "Requirement already satisfied: MarkupSafe>=2.0 in /usr/local/lib/python3.11/dist-packages (from Jinja2>=3.1.2->flask) (3.0.2)\n"
          ]
        }
      ],
      "source": [
        "!pip install requests beautifulsoup4 transformers flask"
      ]
    },
    {
      "cell_type": "code",
      "execution_count": null,
      "metadata": {
        "id": "3PV2P1CsT4wy"
      },
      "outputs": [],
      "source": [
        "import requests\n",
        "from bs4 import BeautifulSoup\n",
        "import json\n",
        "import time"
      ]
    },
    {
      "cell_type": "code",
      "execution_count": null,
      "metadata": {
        "id": "ju_iC1s3T8Bq"
      },
      "outputs": [],
      "source": [
        "BASE_URL = \"https://www.drdo.gov.in\""
      ]
    },
    {
      "cell_type": "code",
      "execution_count": null,
      "metadata": {
        "id": "7AmJVv0BT_hW"
      },
      "outputs": [],
      "source": [
        "def get_all_links(start_url):\n",
        "    headers = {\"User-Agent\": \"Mozilla/5.0\"}\n",
        "    response = requests.get(start_url, headers=headers)\n",
        "\n",
        "    if response.status_code != 200:\n",
        "        print(f\"Failed to access {start_url}\")\n",
        "        return []\n",
        "\n",
        "    soup = BeautifulSoup(response.text, \"html.parser\")\n",
        "    links = set()\n",
        "\n",
        "    for a_tag in soup.find_all(\"a\", href=True):\n",
        "        href = a_tag[\"href\"]\n",
        "\n",
        "        if href.startswith(\"/\") and \"http\" not in href:\n",
        "            full_link = BASE_URL + href\n",
        "            links.add(full_link)\n",
        "\n",
        "    return list(links)"
      ]
    },
    {
      "cell_type": "code",
      "execution_count": null,
      "metadata": {
        "id": "j1cYY9V5UDF9"
      },
      "outputs": [],
      "source": [
        "def scrape_page(url):\n",
        "    headers = {\"User-Agent\": \"Mozilla/5.0\"}\n",
        "    response = requests.get(url, headers=headers)\n",
        "\n",
        "    if response.status_code != 200:\n",
        "        print(f\"Failed to fetch {url}\")\n",
        "        return None\n",
        "\n",
        "    soup = BeautifulSoup(response.text, \"html.parser\")\n",
        "    content = soup.get_text(separator=\" \", strip=True)\n",
        "\n",
        "    return content\n"
      ]
    },
    {
      "cell_type": "code",
      "execution_count": null,
      "metadata": {
        "id": "hdXeos2pUGaP"
      },
      "outputs": [],
      "source": [
        "def scrape_drdo_website(start_url, limit=20):\n",
        "    scraped_data = {}\n",
        "    links_to_scrape = get_all_links(start_url)\n",
        "\n",
        "    print(f\"Found {len(links_to_scrape)} pages to scrape.\")\n",
        "\n",
        "    for i, link in enumerate(links_to_scrape[:limit]):\n",
        "        print(f\"Scraping {i+1}/{len(links_to_scrape)}: {link}\")\n",
        "        content = scrape_page(link)\n",
        "\n",
        "        if content:\n",
        "            scraped_data[link] = content\n",
        "\n",
        "        time.sleep(2)\n",
        "\n",
        "    return scraped_data"
      ]
    },
    {
      "cell_type": "code",
      "execution_count": null,
      "metadata": {
        "colab": {
          "background_save": true,
          "base_uri": "https://localhost:8080/"
        },
        "id": "f9FWyISzUJsC",
        "outputId": "b7be98d7-4150-4cf9-e721-da3e996d9060"
      },
      "outputs": [
        {
          "name": "stdout",
          "output_type": "stream",
          "text": [
            "Found 63 pages to scrape.\n",
            "Scraping 1/63: https://www.drdo.gov.in/drdo/archives\n",
            "Scraping 2/63: https://www.drdo.gov.in/drdo/message-board/public-notice-requirement-valid-gate-score-direct-recruitment-scientist-b-drdo\n",
            "Scraping 3/63: https://www.drdo.gov.in/drdo/about-drdo\n",
            "Scraping 4/63: https://www.drdo.gov.in/drdo/headquarter-directorates\n",
            "Scraping 5/63: https://www.drdo.gov.in/drdo/brahmos-0\n",
            "Scraping 6/63: https://www.drdo.gov.in/drdo/citizen-charter\n",
            "Scraping 7/63: https://www.drdo.gov.in/drdo/press-release/drdo-conducts-high-altitude-trials-indigenous-integrated-life-support-system-lca\n",
            "Scraping 8/63: https://www.drdo.gov.in/drdo/publications\n",
            "Scraping 9/63: https://www.drdo.gov.in/drdo/terms-conditions\n",
            "Scraping 10/63: https://www.drdo.gov.in/drdo/computerized-pilot-selection-system-cpss\n",
            "Scraping 11/63: https://www.drdo.gov.in/drdo/varunastra\n",
            "Scraping 12/63: https://www.drdo.gov.in/drdo/systems-and-subsystems-industry-design-development-and-manufacture\n",
            "Scraping 13/63: https://www.drdo.gov.in/drdo/research-board\n",
            "Scraping 14/63: https://www.drdo.gov.in/drdo/photo-gallery/photo-gallery-january-and-february-2025\n",
            "Scraping 15/63: https://www.drdo.gov.in/drdo/help\n",
            "Scraping 16/63: https://www.drdo.gov.in/drdo/labs-and-establishments\n",
            "Scraping 17/63: https://www.drdo.gov.in/drdo/\n",
            "Scraping 18/63: https://www.drdo.gov.in/drdo/sites/default/files/inline-files/DRDO-Product-for-Export-2021_web.pdf\n",
            "Scraping 19/63: https://www.drdo.gov.in/drdo/privacy-policy\n",
            "Scraping 20/63: https://www.drdo.gov.in/drdo/rti-third-party-audit\n",
            "Scraping 21/63: https://www.drdo.gov.in/sites/default/files/video_storage/dhrdsep24-3.mp4\n",
            "Scraping 22/63: https://www.drdo.gov.in/drdo/torpedo-advanced-light-tal\n",
            "Scraping 23/63: https://www.drdo.gov.in/drdo/student-corner\n",
            "Scraping 24/63: https://www.drdo.gov.in/drdo/akash\n",
            "Scraping 25/63: https://www.drdo.gov.in/drdo/copyright-policy\n",
            "Scraping 26/63: https://www.drdo.gov.in/drdo/faqs\n",
            "Scraping 27/63: https://www.drdo.gov.in/drdo/sitemap\n",
            "Scraping 28/63: https://www.drdo.gov.in/drdo/orgchart\n",
            "Scraping 29/63: https://www.drdo.gov.in/drdo/who-is-who\n",
            "Scraping 30/63: https://www.drdo.gov.in/drdo/headquarter-clusters\n",
            "Scraping 31/63: https://www.drdo.gov.in/drdo/feedback\n",
            "Scraping 32/63: https://www.drdo.gov.in/drdo/drdo-technology-foresight\n",
            "Scraping 33/63: https://www.drdo.gov.in/drdo/careers\n",
            "Scraping 34/63: https://www.drdo.gov.in/drdo/rti-cell/home\n",
            "Scraping 35/63: https://www.drdo.gov.in/drdo/3d-surveillance-radar-indian-navy-revathi\n",
            "Scraping 36/63: https://www.drdo.gov.in/drdo/industry-support\n",
            "Scraping 37/63: https://www.drdo.gov.in/drdo/contact-us\n",
            "Scraping 38/63: https://www.drdo.gov.in/drdo/hi\n",
            "Scraping 39/63: https://www.drdo.gov.in/drdo/3d-low-level-light-weight-radar-aslesha-mk-i\n",
            "Scraping 40/63: https://www.drdo.gov.in/drdo/transfer-technologies\n",
            "Scraping 41/63: https://www.drdo.gov.in/drdo/website-policy\n",
            "Scraping 42/63: https://www.drdo.gov.in/drdo/index.php/member/login\n",
            "Scraping 43/63: https://www.drdo.gov.in/drdo/2d-low-level-light-weight-radar-lllr-bharani-mk-i\n",
            "Scraping 44/63: https://www.drdo.gov.in/drdo/panchi\n",
            "Scraping 45/63: https://www.drdo.gov.in/drdo/procurement\n",
            "Scraping 46/63: https://www.drdo.gov.in/drdo/news-corner\n",
            "Scraping 47/63: https://www.drdo.gov.in/drdo/hyper-linking-policy\n",
            "Scraping 48/63: https://www.drdo.gov.in/drdo/web-information-manager\n",
            "Scraping 49/63: https://www.drdo.gov.in/drdo/message-board/new-version-drdo-industry-partner-registration-20-will-be-launched-soon-till-time\n",
            "Scraping 50/63: https://www.drdo.gov.in/drdo/headquarter-directorates/extramural-research-intellectual-property-rights-er-ipr\n",
            "Scraping 51/63: https://www.drdo.gov.in/drdo/test-facilities\n",
            "Scraping 52/63: https://www.drdo.gov.in/drdo/press-release/indias-security-apparatus-must-remain-adaptive-emerging-threats-such-cyber-warfare\n",
            "Scraping 53/63: https://www.drdo.gov.in/drdo/e-journals/e-journal-services\n",
            "Scraping 54/63: https://www.drdo.gov.in/drdo/dr-sanjai-k-dwivedi\n",
            "Scraping 55/63: https://www.drdo.gov.in/drdo/press-release/tejas-lca-af-mk1-test-fires-beyond-visual-range-air-air-missile\n",
            "Scraping 56/63: https://www.drdo.gov.in/drdo/industry-interface\n",
            "Scraping 57/63: https://www.drdo.gov.in/drdo/adv-tech-center\n",
            "Scraping 58/63: https://www.drdo.gov.in/drdo/accessibility-statement\n",
            "Scraping 59/63: https://www.drdo.gov.in/drdo/technical-clusters\n",
            "Scraping 60/63: https://www.drdo.gov.in/drdo/subordinate-legislation\n",
            "Scraping 61/63: https://www.drdo.gov.in/drdo/message-board/drdo-pensioners-corner\n",
            "Scraping 62/63: https://www.drdo.gov.in/drdo/event/join-drdo\n",
            "Scraping 63/63: https://www.drdo.gov.in/drdo/stqc-certificate\n",
            "Scraping complete! Data saved.\n"
          ]
        }
      ],
      "source": [
        "drdo_data = scrape_drdo_website(BASE_URL, limit=100)\n",
        "\n",
        "with open(\"drdo_scraped_data.json\", \"w\", encoding=\"utf-8\") as file:\n",
        "    json.dump(drdo_data, file, indent=4, ensure_ascii=False)\n",
        "\n",
        "print(\"Scraping complete! Data saved.\")"
      ]
    },
    {
      "cell_type": "code",
      "execution_count": null,
      "metadata": {
        "colab": {
          "base_uri": "https://localhost:8080/"
        },
        "id": "samiY5enYRr0",
        "outputId": "cb187cdb-9051-4ee7-d5d1-15b33a08bd25"
      },
      "outputs": [
        {
          "name": "stdout",
          "output_type": "stream",
          "text": [
            "AIChatbot_DRDO\tcleaned_drdo_scraped_data.json\tdrdo_scraped_data.json\tdrive  sample_data\n"
          ]
        }
      ],
      "source": [
        "!ls"
      ]
    },
    {
      "cell_type": "code",
      "execution_count": null,
      "metadata": {
        "colab": {
          "base_uri": "https://localhost:8080/"
        },
        "id": "NpO-9H4wYTK1",
        "outputId": "131114bc-ce51-4473-e144-23aaca2acaac"
      },
      "outputs": [
        {
          "data": {
            "text/plain": [
              "['.config',\n",
              " 'cleaned_drdo_scraped_data.json',\n",
              " 'drive',\n",
              " 'AIChatbot_DRDO',\n",
              " 'drdo_scraped_data.json',\n",
              " 'sample_data']"
            ]
          },
          "execution_count": 9,
          "metadata": {},
          "output_type": "execute_result"
        }
      ],
      "source": [
        "import os\n",
        "os.listdir()"
      ]
    },
    {
      "cell_type": "code",
      "execution_count": null,
      "metadata": {
        "colab": {
          "base_uri": "https://localhost:8080/",
          "height": 34
        },
        "id": "NrDNfzjqYYCB",
        "outputId": "090e22d8-e58c-4307-97c7-39295a44279b"
      },
      "outputs": [
        {
          "data": {
            "application/javascript": [
              "\n",
              "    async function download(id, filename, size) {\n",
              "      if (!google.colab.kernel.accessAllowed) {\n",
              "        return;\n",
              "      }\n",
              "      const div = document.createElement('div');\n",
              "      const label = document.createElement('label');\n",
              "      label.textContent = `Downloading \"${filename}\": `;\n",
              "      div.appendChild(label);\n",
              "      const progress = document.createElement('progress');\n",
              "      progress.max = size;\n",
              "      div.appendChild(progress);\n",
              "      document.body.appendChild(div);\n",
              "\n",
              "      const buffers = [];\n",
              "      let downloaded = 0;\n",
              "\n",
              "      const channel = await google.colab.kernel.comms.open(id);\n",
              "      // Send a message to notify the kernel that we're ready.\n",
              "      channel.send({})\n",
              "\n",
              "      for await (const message of channel.messages) {\n",
              "        // Send a message to notify the kernel that we're ready.\n",
              "        channel.send({})\n",
              "        if (message.buffers) {\n",
              "          for (const buffer of message.buffers) {\n",
              "            buffers.push(buffer);\n",
              "            downloaded += buffer.byteLength;\n",
              "            progress.value = downloaded;\n",
              "          }\n",
              "        }\n",
              "      }\n",
              "      const blob = new Blob(buffers, {type: 'application/binary'});\n",
              "      const a = document.createElement('a');\n",
              "      a.href = window.URL.createObjectURL(blob);\n",
              "      a.download = filename;\n",
              "      div.appendChild(a);\n",
              "      a.click();\n",
              "      div.remove();\n",
              "    }\n",
              "  "
            ],
            "text/plain": [
              "<IPython.core.display.Javascript object>"
            ]
          },
          "metadata": {},
          "output_type": "display_data"
        },
        {
          "data": {
            "application/javascript": [
              "download(\"download_24c60170-834f-411e-9569-2a399467cef9\", \"drdo_scraped_data.json\", 274279052)"
            ],
            "text/plain": [
              "<IPython.core.display.Javascript object>"
            ]
          },
          "metadata": {},
          "output_type": "display_data"
        }
      ],
      "source": [
        "from google.colab import files\n",
        "files.download(\"drdo_scraped_data.json\")"
      ]
    },
    {
      "cell_type": "code",
      "execution_count": null,
      "metadata": {
        "colab": {
          "base_uri": "https://localhost:8080/"
        },
        "id": "GCRiFo8LaDDK",
        "outputId": "c85c9972-0e06-4ff5-9179-ffb5ae105134"
      },
      "outputs": [
        {
          "name": "stdout",
          "output_type": "stream",
          "text": [
            "Data cleaning complete! Cleaned data saved to cleaned_drdo_scraped_data.json\n"
          ]
        }
      ],
      "source": [
        "import re\n",
        "\n",
        "def clean_and_process_data(data):\n",
        "    cleaned_data = {}\n",
        "    seen_data = set()  # Keep track of seen data\n",
        "\n",
        "    for url, content in data.items():\n",
        "        if content:\n",
        "            # Remove whitespace characters\n",
        "            cleaned_content = re.sub(r'\\s+', ' ', content).strip()\n",
        "\n",
        "            # Handle duplicates\n",
        "            if cleaned_content not in seen_data:\n",
        "                cleaned_data[url] = cleaned_content\n",
        "                seen_data.add(cleaned_content)\n",
        "            else:\n",
        "                print(f\"Duplicate content found and removed for URL: {url}\")\n",
        "\n",
        "        else:\n",
        "            print(f\"Missing content for URL: {url}\")\n",
        "\n",
        "    return cleaned_data\n",
        "\n",
        "# Load the JSON data (assuming it's in a variable named 'drdo_data')\n",
        "# Replace 'drdo_data' with the actual variable name if it's different.\n",
        "\n",
        "# Example usage (assuming drdo_data is already populated)\n",
        "cleaned_drdo_data = clean_and_process_data(drdo_data)\n",
        "\n",
        "with open(\"cleaned_drdo_scraped_data.json\", \"w\", encoding=\"utf-8\") as file:\n",
        "    json.dump(cleaned_drdo_data, file, indent=4, ensure_ascii=False)\n",
        "\n",
        "print(\"Data cleaning complete! Cleaned data saved to cleaned_drdo_scraped_data.json\")\n"
      ]
    },
    {
      "cell_type": "code",
      "execution_count": null,
      "metadata": {
        "colab": {
          "base_uri": "https://localhost:8080/"
        },
        "id": "QHDJ7m5XbRis",
        "outputId": "42e58309-2c6a-4f15-f398-0573b6e9a069"
      },
      "outputs": [
        {
          "name": "stdout",
          "output_type": "stream",
          "text": [
            "Sample cleaned data: [('https://www.drdo.gov.in/drdo/archives', \"Archives | Defence Research and Development Organisation - DRDO, Ministry of Defence, Government of India This page uses Javascript. Your browser either doesn't support Javascript or you have it turned off. To see this page as it is meant to appear please use a Javascript enabled browser. Feedback Sitemap FAQs User account menu Login Skip to Main Content Screen Reader Access English हिंदी facebook twitter instagram Search Corporate Directory Home DRDO About DRDO Citizen Charter Who's who Nodal Officer DRDO Logo Organisation Organisation Chart Technology Clusters Laboratories & Establishments Corporate Clusters Corporate Directorates Outreach Product for Export Industry Support Products for Industry TOT DIA-CoEs ER & IPR Research Boards TDF Test Facilities Technology Foresight Careers Publications RTI Contact Us Archive Listing Home Archives Career Events Message Board DRDO in News Press Release What's New Connect with us facebook twitter instagram Related Links e-Journals TDF ADA DIAT CGDA IDST Subordinate Legislation View All Contact Us Terms & Conditions Privacy Policy Copyright Policy Hyperlink Policy Accessibility Statement Website Policy Help STQC Certificate RTI Third Party Audit Public Grievances Web Information Manager Archives Last Updated: 19/03/2025 Last Updated: 19/03/2025 Visitors: 28,119,297 Copyright © 2025, DRDO, Ministry of Defence, Government of India Back to Top Your browser does not support Javascript Your browser does not support Javascript Your browser does not support Javascript Your browser does not support Javascript Your browser does not support Javascript\"), ('https://www.drdo.gov.in/drdo/message-board/public-notice-requirement-valid-gate-score-direct-recruitment-scientist-b-drdo', \"Public Notice - Requirement of Valid GATE Score for Direct Recruitment of Scientist B in DRDO | Defence Research and Development Organisation - DRDO, Ministry of Defence, Government of India This page uses Javascript. Your browser either doesn't support Javascript or you have it turned off. To see this page as it is meant to appear please use a Javascript enabled browser. Feedback Sitemap FAQs User account menu Login Skip to Main Content Screen Reader Access English हिंदी facebook twitter instagram Search Corporate Directory Home DRDO About DRDO Citizen Charter Who's who Nodal Officer DRDO Logo Organisation Organisation Chart Technology Clusters Laboratories & Establishments Corporate Clusters Corporate Directorates Outreach Product for Export Industry Support Products for Industry TOT DIA-CoEs ER & IPR Research Boards TDF Test Facilities Technology Foresight Careers Publications RTI Contact Us Message Board Home Message Board Public Notice Requirement Of Valid Gate Score For Direct Recruitment Of Scientist B In Drdo Public Notice - Requirement of Valid GATE Score for Direct Recruitment of Scientist B in DRDO 01/10/2024 Document(s) Requirement of Valid GATE Score for Direct Recruitment of Scientist ‘B’ in DRDO (161.95 KB) Connect with us facebook twitter instagram Related Links e-Journals TDF ADA DIAT CGDA IDST Subordinate Legislation View All Contact Us Terms & Conditions Privacy Policy Copyright Policy Hyperlink Policy Accessibility Statement Website Policy Help STQC Certificate RTI Third Party Audit Public Grievances Web Information Manager Archives Last Updated: 01/10/2024 Last Updated: 19/03/2025 Visitors: 28,119,229 Copyright © 2025, DRDO, Ministry of Defence, Government of India Back to Top Your browser does not support Javascript Your browser does not support Javascript Your browser does not support Javascript Your browser does not support Javascript Your browser does not support Javascript\"), ('https://www.drdo.gov.in/drdo/about-drdo', 'About DRDO | Defence Research and Development Organisation - DRDO, Ministry of Defence, Government of India This page uses Javascript. Your browser either doesn\\'t support Javascript or you have it turned off. To see this page as it is meant to appear please use a Javascript enabled browser. Feedback Sitemap FAQs User account menu Login Skip to Main Content Screen Reader Access English हिंदी facebook twitter instagram Search Corporate Directory Home DRDO About DRDO Citizen Charter Who\\'s who Nodal Officer DRDO Logo Organisation Organisation Chart Technology Clusters Laboratories & Establishments Corporate Clusters Corporate Directorates Outreach Product for Export Industry Support Products for Industry TOT DIA-CoEs ER & IPR Research Boards TDF Test Facilities Technology Foresight Careers Publications RTI Contact Us About DRDO Home DRDO About DRDO DRDO is the R&D wing of Ministry of Defence, Govt of India, with a vision to empower India with cutting-edge defence technologies and a mission to achieve self-reliance in critical defence technologies and systems, while equipping our armed forces with state-of-the-art weapon systems and equipment in accordance with requirements laid down by the three Services. DRDO\\'s pursuit of self-reliance and successful indigenous development and production of strategic systems and platforms such as Agni and Prithvi series of missiles; light combat aircraft, Tejas; multi-barrel rocket launcher, Pinaka; air defence system, Akash; a wide range of radars and electronic warfare systems; etc., have given quantum jump to India\\'s military might, generating effective deterrence and providing crucial leverage. \"Balasya Mulam Vigyanam\"—the source of strength is science-drives the nation in peace and war. DRDO has firm determination to make the nation strong and self-reliant in terms of science and technology, especially in the field of military technologies. DRDO was formed in 1958 from the amalgamation of the then already functioning Technical Development Establishment (TDEs) of the Indian Army and the Directorate of Technical Development & Production (DTDP) with the Defence Science Organisation (DSO). DRDO was then a small organisation with 10 establishments or laboratories. Over the years, it has grown multi-directionally in terms of the variety of subject disciplines, number of laboratories, achievements and stature. Today, DRDO is a network of around 41 laboratories and 05 DRDO Young Scientist Laboratories (DYSLs) which are deeply engaged in developing defence technologies covering various disciplines, like aeronautics, armaments, electronics, combat vehicles, engineering systems, instrumentation, missiles, advanced computing and simulation, special materials, naval systems, life sciences, training, information systems and agriculture. Several major projects for the development of missiles, armaments, light combat aircrafts, radars, electronic warfare systems etc are on hand and significant achievements have already been made in several such technologies. Our Luminaries Vision Empowering the nation with state-of-the-art indigenous Defence technologies and systems. Mission Design, develop and lead to production state-of-the-art sensors, weapon systems, platforms and allied equipment for our Defence Services. Provide technological solutions to the Services to optimise combat effectiveness and to promote well-being of the troops. Develop infrastructure and committed quality manpower and build strong indigenous technology base. Connect with us facebook twitter instagram Related Links e-Journals TDF ADA DIAT CGDA IDST Subordinate Legislation View All Contact Us Terms & Conditions Privacy Policy Copyright Policy Hyperlink Policy Accessibility Statement Website Policy Help STQC Certificate RTI Third Party Audit Public Grievances Web Information Manager Archives Last Updated: 27/10/2023 Last Updated: 19/03/2025 Visitors: 28,119,211 Copyright © 2025, DRDO, Ministry of Defence, Government of India Back to Top Your browser does not support Javascript Your browser does not support Javascript Your browser does not support Javascript Your browser does not support Javascript Your browser does not support Javascript'), ('https://www.drdo.gov.in/drdo/headquarter-directorates', \"Corporate Directorates | Defence Research and Development Organisation - DRDO, Ministry of Defence, Government of India This page uses Javascript. Your browser either doesn't support Javascript or you have it turned off. To see this page as it is meant to appear please use a Javascript enabled browser. Feedback Sitemap FAQs User account menu Login Skip to Main Content Screen Reader Access English हिंदी facebook twitter instagram Search Corporate Directory Home DRDO About DRDO Citizen Charter Who's who Nodal Officer DRDO Logo Organisation Organisation Chart Technology Clusters Laboratories & Establishments Corporate Clusters Corporate Directorates Outreach Product for Export Industry Support Products for Industry TOT DIA-CoEs ER & IPR Research Boards TDF Test Facilities Technology Foresight Careers Publications RTI Contact Us Corporate Directorates Home Organisation Corporate Directorates Search for Corporate Directorate Directorate of Civil Works & Estates (DCW&E) Directorate of Extramural Research & Intellectual Property Rights (DER&IPR) Directorate of Finance and Materials Management (DFMM) Directorate of Futuristic Technology Management (DFTM) Directorate of Human Resource Development (DHRD) Directorate of Industry Interface & Technology Management (DIITM) Directorate of Information Technology and Cyber Security (DIT&CS) Directorate of Interaction with Services for Business (DISB) Directorate of International Cooperation (DIC) Directorate of Low Intensity Conflict (DLIC) Directorate of Management Services (DMS) Directorate of Parliamentary Affairs, Rajbhasha & Organisation and Methods (DPARO&M) Directorate of Personnel (DoP) Directorate of Planning & Coordination (DP&C) Directorate of Public Interface (DPI) Directorate of Quality, Reliability & Safety (DQR&S) Pagination Current page 1 Page 2 Next page Next › Last page Last » Connect with us facebook twitter instagram Related Links e-Journals TDF ADA DIAT CGDA IDST Subordinate Legislation View All Contact Us Terms & Conditions Privacy Policy Copyright Policy Hyperlink Policy Accessibility Statement Website Policy Help STQC Certificate RTI Third Party Audit Public Grievances Web Information Manager Archives Last Updated: 19/03/2025 Last Updated: 19/03/2025 Visitors: 28,119,297 Copyright © 2025, DRDO, Ministry of Defence, Government of India Back to Top Your browser does not support Javascript Your browser does not support Javascript Your browser does not support Javascript Your browser does not support Javascript Your browser does not support Javascript\"), ('https://www.drdo.gov.in/drdo/brahmos-0', \"BrahMos | Defence Research and Development Organisation - DRDO, Ministry of Defence, Government of India This page uses Javascript. Your browser either doesn't support Javascript or you have it turned off. To see this page as it is meant to appear please use a Javascript enabled browser. Feedback Sitemap FAQs User account menu Login Skip to Main Content Screen Reader Access English हिंदी facebook twitter instagram Search Corporate Directory Home DRDO About DRDO Citizen Charter Who's who Nodal Officer DRDO Logo Organisation Organisation Chart Technology Clusters Laboratories & Establishments Corporate Clusters Corporate Directorates Outreach Product for Export Industry Support Products for Industry TOT DIA-CoEs ER & IPR Research Boards TDF Test Facilities Technology Foresight Careers Publications RTI Contact Us BrahMos Home Product Brahmos Back to Listing BrahMos BRAHMOS is a universal long range supersonic cruise missile system that can be launched from land, sea and air. BRAHMOS has been jointly developed by DRDO, India, and NPOM, Russia. The system has been designed with two variants for Anti-Ship and Land-Attack roles. BRAHMOS Weapon Systems has been inducted and is operational with the Indian Navy (IN) as well as the Indian Army (IA). More details on BrahMos can be found at http://brahmos.com Connect with us facebook twitter instagram Related Links e-Journals TDF ADA DIAT CGDA IDST Subordinate Legislation View All Contact Us Terms & Conditions Privacy Policy Copyright Policy Hyperlink Policy Accessibility Statement Website Policy Help STQC Certificate RTI Third Party Audit Public Grievances Web Information Manager Archives Last Updated: 16/09/2019 Last Updated: 19/03/2025 Visitors: 28,119,223 Copyright © 2025, DRDO, Ministry of Defence, Government of India Back to Top Your browser does not support Javascript Your browser does not support Javascript Your browser does not support Javascript Your browser does not support Javascript Your browser does not support Javascript\")]\n"
          ]
        }
      ],
      "source": [
        "with open(\"cleaned_drdo_scraped_data.json\", \"r\", encoding=\"utf-8\") as file:\n",
        "    cleaned_data = json.load(file)\n",
        "\n",
        "print(\"Sample cleaned data:\", list(cleaned_data.items())[:5])  # Show first 5 items"
      ]
    },
    {
      "cell_type": "code",
      "execution_count": null,
      "metadata": {
        "id": "V7Qi-g4QbWBC"
      },
      "outputs": [],
      "source": [
        "def clean_and_process_data(data):\n",
        "    if not data:\n",
        "        print(\"Error: No data found!\")\n",
        "        return {}\n",
        "\n",
        "    cleaned_data = {}\n",
        "    seen_data = set()\n",
        "\n",
        "    for url, content in data.items():\n",
        "        if content:\n",
        "            cleaned_content = re.sub(r'\\s+', ' ', content).strip()\n",
        "\n",
        "            if cleaned_content not in seen_data:\n",
        "                cleaned_data[url] = cleaned_content\n",
        "                seen_data.add(cleaned_content)\n",
        "            else:\n",
        "                print(f\"❌ Duplicate removed: {url}\")\n",
        "        else:\n",
        "            print(f\"⚠️ Empty content for URL: {url}\")  # Debug message\n",
        "\n",
        "    print(f\"✅ Total cleaned entries: {len(cleaned_data)}\")\n",
        "    return cleaned_data\n"
      ]
    },
    {
      "cell_type": "code",
      "execution_count": null,
      "metadata": {
        "colab": {
          "background_save": true
        },
        "id": "vXuYpl2qbZsw",
        "outputId": "50f05b39-d42c-49b6-92e1-ea90c7f67fed"
      },
      "outputs": [
        {
          "name": "stdout",
          "output_type": "stream",
          "text": [
            "Buffered data was truncated after reaching the output size limit."
          ]
        }
      ],
      "source": [
        "print(f\"Raw data received: {drdo_data}\")\n",
        "print(f\"Number of entries: {len(drdo_data)}\")"
      ]
    },
    {
      "cell_type": "code",
      "execution_count": null,
      "metadata": {
        "colab": {
          "base_uri": "https://localhost:8080/"
        },
        "id": "y8jIYj_ldn8B",
        "outputId": "76877e31-21b0-4910-b40e-341087932aa4"
      },
      "outputs": [
        {
          "output_type": "stream",
          "name": "stdout",
          "text": [
            "Number of entries: 63\n"
          ]
        }
      ],
      "source": [
        "if drdo_data is None:\n",
        "    print(\"drdo_data is None. Check if the file was loaded properly.\")\n",
        "elif not drdo_data:\n",
        "    print(\"drdo_data is empty. Check if the scraping was successful.\")\n",
        "else:\n",
        "    print(f\"Number of entries: {len(drdo_data)}\")"
      ]
    },
    {
      "cell_type": "code",
      "execution_count": null,
      "metadata": {
        "colab": {
          "base_uri": "https://localhost:8080/"
        },
        "id": "r4iDFK6Ydujk",
        "outputId": "06f9d314-ce4c-4b4e-e4c5-df2ef058bc4f"
      },
      "outputs": [
        {
          "output_type": "stream",
          "name": "stdout",
          "text": [
            "✅ Total cleaned entries: 63\n"
          ]
        }
      ],
      "source": [
        "cleaned_drdo_data = clean_and_process_data(drdo_data)"
      ]
    },
    {
      "cell_type": "code",
      "execution_count": null,
      "metadata": {
        "colab": {
          "base_uri": "https://localhost:8080/"
        },
        "id": "1Vx3OtKEdztd",
        "outputId": "55a07dcd-37c8-4bc9-d9f5-b0f43120c6b2"
      },
      "outputs": [
        {
          "output_type": "stream",
          "name": "stdout",
          "text": [
            "Total cleaned entries: 63\n"
          ]
        }
      ],
      "source": [
        "print(f\"Total cleaned entries: {len(cleaned_drdo_data)}\")"
      ]
    },
    {
      "cell_type": "code",
      "execution_count": null,
      "metadata": {
        "colab": {
          "base_uri": "https://localhost:8080/"
        },
        "id": "Qk0101Vud6FI",
        "outputId": "ee956e7c-b715-4353-a46c-7db5e6aadae3"
      },
      "outputs": [
        {
          "output_type": "stream",
          "name": "stdout",
          "text": [
            "Data cleaning complete! Cleaned data saved successfully.\n"
          ]
        }
      ],
      "source": [
        "import json\n",
        "\n",
        "with open(\"cleaned_drdo_scraped_data.json\", \"w\", encoding=\"utf-8\") as file:\n",
        "    json.dump(cleaned_drdo_data, file, indent=4, ensure_ascii=False)\n",
        "\n",
        "print(\"Data cleaning complete! Cleaned data saved successfully.\")\n"
      ]
    },
    {
      "cell_type": "code",
      "execution_count": null,
      "metadata": {
        "colab": {
          "base_uri": "https://localhost:8080/",
          "height": 34
        },
        "id": "fjuqTeZaeASs",
        "outputId": "bd050f9c-ba1a-402c-b22a-2c4f12ea34bd"
      },
      "outputs": [
        {
          "output_type": "display_data",
          "data": {
            "text/plain": [
              "<IPython.core.display.Javascript object>"
            ],
            "application/javascript": [
              "\n",
              "    async function download(id, filename, size) {\n",
              "      if (!google.colab.kernel.accessAllowed) {\n",
              "        return;\n",
              "      }\n",
              "      const div = document.createElement('div');\n",
              "      const label = document.createElement('label');\n",
              "      label.textContent = `Downloading \"${filename}\": `;\n",
              "      div.appendChild(label);\n",
              "      const progress = document.createElement('progress');\n",
              "      progress.max = size;\n",
              "      div.appendChild(progress);\n",
              "      document.body.appendChild(div);\n",
              "\n",
              "      const buffers = [];\n",
              "      let downloaded = 0;\n",
              "\n",
              "      const channel = await google.colab.kernel.comms.open(id);\n",
              "      // Send a message to notify the kernel that we're ready.\n",
              "      channel.send({})\n",
              "\n",
              "      for await (const message of channel.messages) {\n",
              "        // Send a message to notify the kernel that we're ready.\n",
              "        channel.send({})\n",
              "        if (message.buffers) {\n",
              "          for (const buffer of message.buffers) {\n",
              "            buffers.push(buffer);\n",
              "            downloaded += buffer.byteLength;\n",
              "            progress.value = downloaded;\n",
              "          }\n",
              "        }\n",
              "      }\n",
              "      const blob = new Blob(buffers, {type: 'application/binary'});\n",
              "      const a = document.createElement('a');\n",
              "      a.href = window.URL.createObjectURL(blob);\n",
              "      a.download = filename;\n",
              "      div.appendChild(a);\n",
              "      a.click();\n",
              "      div.remove();\n",
              "    }\n",
              "  "
            ]
          },
          "metadata": {}
        },
        {
          "output_type": "display_data",
          "data": {
            "text/plain": [
              "<IPython.core.display.Javascript object>"
            ],
            "application/javascript": [
              "download(\"download_c709cd17-65f9-4cf3-bd1e-66fa0791538c\", \"cleaned_drdo_scraped_data.json\", 261344801)"
            ]
          },
          "metadata": {}
        }
      ],
      "source": [
        "from google.colab import files\n",
        "files.download(\"cleaned_drdo_scraped_data.json\")"
      ]
    },
    {
      "cell_type": "code",
      "execution_count": null,
      "metadata": {
        "colab": {
          "base_uri": "https://localhost:8080/"
        },
        "id": "4oK9jC1Teg4Z",
        "outputId": "bbfbf63d-ef30-40ed-8913-4b673f738f1b"
      },
      "outputs": [
        {
          "output_type": "stream",
          "name": "stdout",
          "text": [
            "Requirement already satisfied: faiss-cpu in /usr/local/lib/python3.11/dist-packages (1.10.0)\n",
            "Requirement already satisfied: numpy<3.0,>=1.25.0 in /usr/local/lib/python3.11/dist-packages (from faiss-cpu) (2.0.2)\n",
            "Requirement already satisfied: packaging in /usr/local/lib/python3.11/dist-packages (from faiss-cpu) (24.2)\n"
          ]
        }
      ],
      "source": [
        "!pip install faiss-cpu"
      ]
    },
    {
      "cell_type": "code",
      "execution_count": null,
      "metadata": {
        "colab": {
          "base_uri": "https://localhost:8080/"
        },
        "id": "-xCQCVj0enEj",
        "outputId": "84ed0351-9f17-4f16-de05-acebac5c97c1"
      },
      "outputs": [
        {
          "output_type": "stream",
          "name": "stdout",
          "text": [
            "Loaded 63 entries from the cleaned dataset.\n"
          ]
        }
      ],
      "source": [
        "import json\n",
        "\n",
        "with open(\"cleaned_drdo_scraped_data.json\", \"r\", encoding=\"utf-8\") as file:\n",
        "    drdo_data = json.load(file)\n",
        "\n",
        "print(f\"Loaded {len(drdo_data)} entries from the cleaned dataset.\")"
      ]
    },
    {
      "cell_type": "code",
      "execution_count": null,
      "metadata": {
        "colab": {
          "base_uri": "https://localhost:8080/"
        },
        "id": "UXfWOQIrerwW",
        "outputId": "a232d8ce-f497-4cf9-e077-58f4d29b5568"
      },
      "outputs": [
        {
          "output_type": "stream",
          "name": "stdout",
          "text": [
            "Requirement already satisfied: onedrivesdk in /usr/local/lib/python3.11/dist-packages (2.0.1)\n",
            "Drive already mounted at /content/drive; to attempt to forcibly remount, call drive.mount(\"/content/drive\", force_remount=True).\n"
          ]
        }
      ],
      "source": [
        "!pip install onedrivesdk\n",
        "from google.colab import drive\n",
        "drive.mount('/content/drive')"
      ]
    },
    {
      "cell_type": "code",
      "execution_count": null,
      "metadata": {
        "colab": {
          "base_uri": "https://localhost:8080/"
        },
        "id": "NDtWgAmws2G-",
        "outputId": "c31b9f92-20f7-4113-dbcf-d4017c718e63"
      },
      "outputs": [
        {
          "output_type": "stream",
          "name": "stdout",
          "text": [
            "['Untitled0.ipynb', 'Untitled1.ipynb', 'Meghna Gupta, 023 CSE.ipynb', 'Copy of Project 7. Wine Quality Prediction.ipynb', 'Practice.ipynb', 'Untitled2.ipynb', 'Flipkart_Reviews_Sentiment_Analysis_using_Python (1).ipynb', 'Untitled3.ipynb', 'Untitled4.ipynb', 'Untitled5.ipynb', 'classification(1).ipynb', 'Flipkart_Reviews_Sentiment_Analysis_using_Python.ipynb', 'House_Price_Prediction_using_Machine_Learning_.ipynb', 'Customer_Segmentation_in_Python.ipynb', 'customer_churn (2).ipynb', 'customer_churn (1).ipynb', 'Untitled6.ipynb', 'customer_churn.ipynb', 'Untitled', 'credit.ipynb', 'Untitled7.ipynb', 'Experiment - 2.ipynb', 'experiment - 1.ipynb', 'experiment - 2.ipynb', 'experiment - 3.ipynb', 'Experiment - 5.ipynb', 'experiment - 4.ipynb', 'Experiment - 6.ipynb', 'Untitled9.ipynb', 'WebScrapping.ipynb', 'Untitled8.ipynb']\n"
          ]
        }
      ],
      "source": [
        "print(os.listdir(\"/content/drive/My Drive/Colab Notebooks/\"))"
      ]
    },
    {
      "cell_type": "code",
      "execution_count": null,
      "metadata": {
        "colab": {
          "base_uri": "https://localhost:8080/"
        },
        "id": "caswjY0etuaA",
        "outputId": "de78cc13-1953-4c46-a539-4d3d2df570c5"
      },
      "outputs": [
        {
          "output_type": "stream",
          "name": "stdout",
          "text": [
            "Requirement already satisfied: sentence-transformers in /usr/local/lib/python3.11/dist-packages (3.4.1)\n",
            "Requirement already satisfied: transformers<5.0.0,>=4.41.0 in /usr/local/lib/python3.11/dist-packages (from sentence-transformers) (4.49.0)\n",
            "Requirement already satisfied: tqdm in /usr/local/lib/python3.11/dist-packages (from sentence-transformers) (4.67.1)\n",
            "Requirement already satisfied: torch>=1.11.0 in /usr/local/lib/python3.11/dist-packages (from sentence-transformers) (2.6.0)\n",
            "Requirement already satisfied: scikit-learn in /usr/local/lib/python3.11/dist-packages (from sentence-transformers) (1.6.1)\n",
            "Requirement already satisfied: scipy in /usr/local/lib/python3.11/dist-packages (from sentence-transformers) (1.14.1)\n",
            "Requirement already satisfied: huggingface-hub>=0.20.0 in /usr/local/lib/python3.11/dist-packages (from sentence-transformers) (0.29.3)\n",
            "Requirement already satisfied: Pillow in /usr/local/lib/python3.11/dist-packages (from sentence-transformers) (11.1.0)\n",
            "Requirement already satisfied: filelock in /usr/local/lib/python3.11/dist-packages (from huggingface-hub>=0.20.0->sentence-transformers) (3.18.0)\n",
            "Requirement already satisfied: fsspec>=2023.5.0 in /usr/local/lib/python3.11/dist-packages (from huggingface-hub>=0.20.0->sentence-transformers) (2025.3.0)\n",
            "Requirement already satisfied: packaging>=20.9 in /usr/local/lib/python3.11/dist-packages (from huggingface-hub>=0.20.0->sentence-transformers) (24.2)\n",
            "Requirement already satisfied: pyyaml>=5.1 in /usr/local/lib/python3.11/dist-packages (from huggingface-hub>=0.20.0->sentence-transformers) (6.0.2)\n",
            "Requirement already satisfied: requests in /usr/local/lib/python3.11/dist-packages (from huggingface-hub>=0.20.0->sentence-transformers) (2.32.3)\n",
            "Requirement already satisfied: typing-extensions>=3.7.4.3 in /usr/local/lib/python3.11/dist-packages (from huggingface-hub>=0.20.0->sentence-transformers) (4.12.2)\n",
            "Requirement already satisfied: networkx in /usr/local/lib/python3.11/dist-packages (from torch>=1.11.0->sentence-transformers) (3.4.2)\n",
            "Requirement already satisfied: jinja2 in /usr/local/lib/python3.11/dist-packages (from torch>=1.11.0->sentence-transformers) (3.1.6)\n",
            "Requirement already satisfied: nvidia-cuda-nvrtc-cu12==12.4.127 in /usr/local/lib/python3.11/dist-packages (from torch>=1.11.0->sentence-transformers) (12.4.127)\n",
            "Requirement already satisfied: nvidia-cuda-runtime-cu12==12.4.127 in /usr/local/lib/python3.11/dist-packages (from torch>=1.11.0->sentence-transformers) (12.4.127)\n",
            "Requirement already satisfied: nvidia-cuda-cupti-cu12==12.4.127 in /usr/local/lib/python3.11/dist-packages (from torch>=1.11.0->sentence-transformers) (12.4.127)\n",
            "Requirement already satisfied: nvidia-cudnn-cu12==9.1.0.70 in /usr/local/lib/python3.11/dist-packages (from torch>=1.11.0->sentence-transformers) (9.1.0.70)\n",
            "Requirement already satisfied: nvidia-cublas-cu12==12.4.5.8 in /usr/local/lib/python3.11/dist-packages (from torch>=1.11.0->sentence-transformers) (12.4.5.8)\n",
            "Requirement already satisfied: nvidia-cufft-cu12==11.2.1.3 in /usr/local/lib/python3.11/dist-packages (from torch>=1.11.0->sentence-transformers) (11.2.1.3)\n",
            "Requirement already satisfied: nvidia-curand-cu12==10.3.5.147 in /usr/local/lib/python3.11/dist-packages (from torch>=1.11.0->sentence-transformers) (10.3.5.147)\n",
            "Requirement already satisfied: nvidia-cusolver-cu12==11.6.1.9 in /usr/local/lib/python3.11/dist-packages (from torch>=1.11.0->sentence-transformers) (11.6.1.9)\n",
            "Requirement already satisfied: nvidia-cusparse-cu12==12.3.1.170 in /usr/local/lib/python3.11/dist-packages (from torch>=1.11.0->sentence-transformers) (12.3.1.170)\n",
            "Requirement already satisfied: nvidia-cusparselt-cu12==0.6.2 in /usr/local/lib/python3.11/dist-packages (from torch>=1.11.0->sentence-transformers) (0.6.2)\n",
            "Requirement already satisfied: nvidia-nccl-cu12==2.21.5 in /usr/local/lib/python3.11/dist-packages (from torch>=1.11.0->sentence-transformers) (2.21.5)\n",
            "Requirement already satisfied: nvidia-nvtx-cu12==12.4.127 in /usr/local/lib/python3.11/dist-packages (from torch>=1.11.0->sentence-transformers) (12.4.127)\n",
            "Requirement already satisfied: nvidia-nvjitlink-cu12==12.4.127 in /usr/local/lib/python3.11/dist-packages (from torch>=1.11.0->sentence-transformers) (12.4.127)\n",
            "Requirement already satisfied: triton==3.2.0 in /usr/local/lib/python3.11/dist-packages (from torch>=1.11.0->sentence-transformers) (3.2.0)\n",
            "Requirement already satisfied: sympy==1.13.1 in /usr/local/lib/python3.11/dist-packages (from torch>=1.11.0->sentence-transformers) (1.13.1)\n",
            "Requirement already satisfied: mpmath<1.4,>=1.1.0 in /usr/local/lib/python3.11/dist-packages (from sympy==1.13.1->torch>=1.11.0->sentence-transformers) (1.3.0)\n",
            "Requirement already satisfied: numpy>=1.17 in /usr/local/lib/python3.11/dist-packages (from transformers<5.0.0,>=4.41.0->sentence-transformers) (2.0.2)\n",
            "Requirement already satisfied: regex!=2019.12.17 in /usr/local/lib/python3.11/dist-packages (from transformers<5.0.0,>=4.41.0->sentence-transformers) (2024.11.6)\n",
            "Requirement already satisfied: tokenizers<0.22,>=0.21 in /usr/local/lib/python3.11/dist-packages (from transformers<5.0.0,>=4.41.0->sentence-transformers) (0.21.1)\n",
            "Requirement already satisfied: safetensors>=0.4.1 in /usr/local/lib/python3.11/dist-packages (from transformers<5.0.0,>=4.41.0->sentence-transformers) (0.5.3)\n",
            "Requirement already satisfied: joblib>=1.2.0 in /usr/local/lib/python3.11/dist-packages (from scikit-learn->sentence-transformers) (1.4.2)\n",
            "Requirement already satisfied: threadpoolctl>=3.1.0 in /usr/local/lib/python3.11/dist-packages (from scikit-learn->sentence-transformers) (3.6.0)\n",
            "Requirement already satisfied: MarkupSafe>=2.0 in /usr/local/lib/python3.11/dist-packages (from jinja2->torch>=1.11.0->sentence-transformers) (3.0.2)\n",
            "Requirement already satisfied: charset-normalizer<4,>=2 in /usr/local/lib/python3.11/dist-packages (from requests->huggingface-hub>=0.20.0->sentence-transformers) (3.4.1)\n",
            "Requirement already satisfied: idna<4,>=2.5 in /usr/local/lib/python3.11/dist-packages (from requests->huggingface-hub>=0.20.0->sentence-transformers) (3.10)\n",
            "Requirement already satisfied: urllib3<3,>=1.21.1 in /usr/local/lib/python3.11/dist-packages (from requests->huggingface-hub>=0.20.0->sentence-transformers) (2.3.0)\n",
            "Requirement already satisfied: certifi>=2017.4.17 in /usr/local/lib/python3.11/dist-packages (from requests->huggingface-hub>=0.20.0->sentence-transformers) (2025.1.31)\n"
          ]
        },
        {
          "output_type": "stream",
          "name": "stderr",
          "text": [
            "/usr/local/lib/python3.11/dist-packages/huggingface_hub/utils/_auth.py:94: UserWarning: \n",
            "The secret `HF_TOKEN` does not exist in your Colab secrets.\n",
            "To authenticate with the Hugging Face Hub, create a token in your settings tab (https://huggingface.co/settings/tokens), set it as secret in your Google Colab and restart your session.\n",
            "You will be able to reuse this secret in all of your notebooks.\n",
            "Please note that authentication is recommended but still optional to access public models or datasets.\n",
            "  warnings.warn(\n"
          ]
        },
        {
          "output_type": "stream",
          "name": "stdout",
          "text": [
            "Embeddings saved to OneDrive: /content/drive/My Drive/embeddings.pkl\n"
          ]
        }
      ],
      "source": [
        "!pip install sentence-transformers\n",
        "import numpy as np\n",
        "import gc\n",
        "import torch\n",
        "import pickle  # To save embeddings\n",
        "from sentence_transformers import SentenceTransformer\n",
        "\n",
        "# Free up memory\n",
        "gc.collect()\n",
        "torch.cuda.empty_cache()\n",
        "\n",
        "# Define drdo_data (Replace this with your actual data)\n",
        "drdo_data = {\n",
        "    \"doc1\": \"This is the first document.\",\n",
        "    \"doc2\": \"This is the second document.\",\n",
        "    \"doc3\": \"Here is another example of a document.\"\n",
        "}\n",
        "\n",
        "texts = list(drdo_data.values())\n",
        "\n",
        "batch_size = 10  # Adjust batch size based on memory\n",
        "embeddings_list = []\n",
        "\n",
        "# Load a lightweight model\n",
        "model = SentenceTransformer(\"all-MiniLM-L6-v2\")\n",
        "\n",
        "# Process and save embeddings in batches\n",
        "for i in range(0, len(texts), batch_size):\n",
        "    batch = texts[i : i + batch_size]\n",
        "    batch_embeddings = model.encode(batch, convert_to_numpy=True)\n",
        "    embeddings_list.append(batch_embeddings)\n",
        "\n",
        "# Combine all embeddings into a single array\n",
        "embeddings = np.vstack(embeddings_list)\n",
        "\n",
        "# Define file path in OneDrive (Change to your directory)\n",
        "file_path = \"/content/drive/My Drive/embeddings.pkl\"\n",
        "\n",
        "# Save embeddings to OneDrive\n",
        "with open(file_path, \"wb\") as f:\n",
        "    pickle.dump(embeddings, f)\n",
        "\n",
        "print(\"Embeddings saved to OneDrive:\", file_path)\n"
      ]
    },
    {
      "cell_type": "code",
      "execution_count": null,
      "metadata": {
        "colab": {
          "base_uri": "https://localhost:8080/"
        },
        "id": "yUYpTYlYxbae",
        "outputId": "2beb0bbd-fb96-4cf8-9f1e-dc32b3c8eb3b"
      },
      "outputs": [
        {
          "output_type": "stream",
          "name": "stdout",
          "text": [
            "Loaded embeddings shape: (3, 384)\n"
          ]
        }
      ],
      "source": [
        "with open(file_path, \"rb\") as f:\n",
        "    embeddings = pickle.load(f)\n",
        "\n",
        "print(\"Loaded embeddings shape:\", embeddings.shape)"
      ]
    },
    {
      "cell_type": "code",
      "execution_count": null,
      "metadata": {
        "colab": {
          "base_uri": "https://localhost:8080/"
        },
        "id": "VeiqmcORLcpj",
        "outputId": "0f1dfe75-2974-43f2-9e29-12670e4508bd"
      },
      "outputs": [
        {
          "output_type": "stream",
          "name": "stdout",
          "text": [
            "Scraped Data Sample: [('doc1', \"Archives | Defence Research and Development Organisation - DRDO, Ministry of Defence, Government of India This page uses Javascript. Your browser either doesn't support Javascript or you have it turned off. To see this page as it is meant to appear please use a Javascript enabled browser. Feedback Sitemap FAQs User account menu Login Skip to Main Content Screen Reader Access English हिंदी facebook twitter instagram Search Corporate Directory Home DRDO About DRDO Citizen Charter Who's who Nodal Officer DRDO Logo Organisation Organisation Chart Technology Clusters Laboratories & Establishments Corporate Clusters Corporate Directorates Outreach Product for Export Industry Support Products for Industry TOT DIA-CoEs ER & IPR Research Boards TDF Test Facilities Technology Foresight Careers Publications RTI Contact Us Archive Listing Home Archives Career Events Message Board DRDO in News Press Release What's New Connect with us facebook twitter instagram Related Links e-Journals TDF ADA DIAT CGDA IDST Subordinate Legislation View All Contact Us Terms & Conditions Privacy Policy Copyright Policy Hyperlink Policy Accessibility Statement Website Policy Help STQC Certificate RTI Third Party Audit Public Grievances Web Information Manager Archives Last Updated: 19/03/2025 Last Updated: 19/03/2025 Visitors: 28,119,297 Copyright © 2025, DRDO, Ministry of Defence, Government of  India Back to Top Your browser does not support Javascript Your browser does not support Javascript Your browser does not support Javascript Your browser does not support Javascript Your browser does not support Javascript\"), ('doc2', \"Public Notice - Requirement of Valid GATE Score for Direct Recruitment of Scientist B in DRDO | Defence Research and Development Organisation - DRDO, Ministry of Defence, Government of India This page uses Javascript. Your browser either doesn't support Javascript or you have it turned off. To see this page as it is meant to appear please use a Javascript enabled browser. Feedback Sitemap FAQs User account menu Login Skip to Main Content Screen Reader Access English हिंदी facebook twitter instagram Search Corporate Directory Home DRDO About DRDO Citizen Charter Who's who Nodal Officer DRDO Logo Organisation Organisation Chart Technology Clusters Laboratories & Establishments Corporate Clusters Corporate Directorates Outreach Product for Export Industry Support Products for Industry TOT DIA-CoEs ER & IPR Research Boards TDF Test Facilities Technology Foresight Careers Publications RTI Contact Us Message Board Home Message Board Public Notice   Requirement Of Valid Gate Score For Direct Recruitment Of Scientist B In Drdo Public Notice - Requirement of Valid GATE Score for Direct Recruitment of Scientist B in DRDO 01/10/2024 Document(s) Requirement of Valid GATE Score for Direct Recruitment of Scientist ‘B’ in DRDO (161.95 KB) Connect with us facebook twitter instagram Related Links e-Journals TDF ADA DIAT CGDA IDST Subordinate Legislation View All Contact Us Terms & Conditions Privacy Policy Copyright Policy Hyperlink Policy Accessibility Statement Website Policy Help STQC Certificate RTI Third Party Audit Public Grievances Web Information Manager Archives Last Updated: 01/10/2024 Last Updated: 19/03/2025 Visitors: 28,119,229 Copyright © 2025, DRDO, Ministry of Defence, Government of  India Back to Top Your browser does not support Javascript Your browser does not support Javascript Your browser does not support Javascript Your browser does not support Javascript Your browser does not support Javascript\"), ('doc3', 'About DRDO | Defence Research and Development Organisation - DRDO, Ministry of Defence, Government of India This page uses Javascript. Your browser either doesn\\'t support Javascript or you have it turned off. To see this page as it is meant to appear please use a Javascript enabled browser. Feedback Sitemap FAQs User account menu Login Skip to Main Content Screen Reader Access English हिंदी facebook twitter instagram Search Corporate Directory Home DRDO About DRDO Citizen Charter Who\\'s who Nodal Officer DRDO Logo Organisation Organisation Chart Technology Clusters Laboratories & Establishments Corporate Clusters Corporate Directorates Outreach Product for Export Industry Support Products for Industry TOT DIA-CoEs ER & IPR Research Boards TDF Test Facilities Technology Foresight Careers Publications RTI Contact Us About DRDO Home DRDO About DRDO DRDO is the R&D wing of Ministry of Defence, Govt of India, with a vision to empower India with cutting-edge defence technologies and a mission to achieve self-reliance in critical defence technologies and systems, while equipping our armed forces with state-of-the-art weapon systems and equipment in accordance with requirements laid down by the three Services. DRDO\\'s pursuit of self-reliance and successful indigenous development and production of strategic systems and platforms such as Agni and Prithvi series of missiles; light combat aircraft, Tejas; multi-barrel rocket launcher, Pinaka; air defence system, Akash; a wide range of radars and electronic warfare systems; etc., have given quantum jump to India\\'s military might, generating effective deterrence and providing crucial leverage. \"Balasya Mulam Vigyanam\"—the source of strength is science-drives the nation in peace and war. DRDO has firm determination to make the nation strong and self-reliant in terms of science and technology, especially in the field of military technologies. DRDO was formed in 1958 from the amalgamation of the then already functioning Technical Development Establishment (TDEs) of the Indian Army and the Directorate of Technical Development & Production (DTDP) with the Defence Science Organisation (DSO). DRDO was then a small organisation with 10 establishments or laboratories. Over the years, it has grown multi-directionally in terms of the variety of subject disciplines, number of laboratories, achievements and stature. Today, DRDO is a network of around 41 laboratories and 05 DRDO Young Scientist Laboratories (DYSLs) which are deeply engaged in developing defence technologies covering various disciplines, like aeronautics, armaments, electronics, combat vehicles, engineering systems, instrumentation, missiles, advanced computing and simulation, special materials, naval systems, life sciences, training, information systems and agriculture. Several major projects for the development of missiles, armaments, light combat aircrafts, radars, electronic warfare systems etc are on hand and significant achievements have already been made in several such technologies. Our Luminaries Vision Empowering the nation with state-of-the-art indigenous Defence technologies and systems. Mission Design, develop and lead to production state-of-the-art sensors, weapon systems, platforms and allied equipment for our Defence Services. Provide technological solutions to the Services to optimise combat effectiveness and to promote well-being of the troops. Develop infrastructure and committed quality manpower and build strong indigenous technology base. Connect with us facebook twitter instagram Related Links e-Journals TDF ADA DIAT CGDA IDST Subordinate Legislation View All Contact Us Terms & Conditions Privacy Policy Copyright Policy Hyperlink Policy Accessibility Statement Website Policy Help STQC Certificate RTI Third Party Audit Public Grievances Web Information Manager Archives Last Updated: 27/10/2023 Last Updated: 19/03/2025 Visitors: 28,119,211 Copyright © 2025, DRDO, Ministry of Defence, Government of  India Back to Top Your browser does not support Javascript Your browser does not support Javascript Your browser does not support Javascript Your browser does not support Javascript Your browser does not support Javascript')]\n",
            "Cleaned Data Sample: [('doc1', \"Archives | Defence Research and Development Organisation - DRDO, Ministry of Defence, Government of India This page uses Javascript. Your browser either doesn't support Javascript or you have it turned off. To see this page as it is meant to appear please use a Javascript enabled browser. Feedback Sitemap FAQs User account menu Login Skip to Main Content Screen Reader Access English हिंदी facebook twitter instagram Search Corporate Directory Home DRDO About DRDO Citizen Charter Who's who Nodal Officer DRDO Logo Organisation Organisation Chart Technology Clusters Laboratories & Establishments Corporate Clusters Corporate Directorates Outreach Product for Export Industry Support Products for Industry TOT DIA-CoEs ER & IPR Research Boards TDF Test Facilities Technology Foresight Careers Publications RTI Contact Us Archive Listing Home Archives Career Events Message Board DRDO in News Press Release What's New Connect with us facebook twitter instagram Related Links e-Journals TDF ADA DIAT CGDA IDST Subordinate Legislation View All Contact Us Terms & Conditions Privacy Policy Copyright Policy Hyperlink Policy Accessibility Statement Website Policy Help STQC Certificate RTI Third Party Audit Public Grievances Web Information Manager Archives Last Updated: 19/03/2025 Last Updated: 19/03/2025 Visitors: 28,119,297 Copyright © 2025, DRDO, Ministry of Defence, Government of India Back to Top Your browser does not support Javascript Your browser does not support Javascript Your browser does not support Javascript Your browser does not support Javascript Your browser does not support Javascript\"), ('doc2', \"Public Notice - Requirement of Valid GATE Score for Direct Recruitment of Scientist B in DRDO | Defence Research and Development Organisation - DRDO, Ministry of Defence, Government of India This page uses Javascript. Your browser either doesn't support Javascript or you have it turned off. To see this page as it is meant to appear please use a Javascript enabled browser. Feedback Sitemap FAQs User account menu Login Skip to Main Content Screen Reader Access English हिंदी facebook twitter instagram Search Corporate Directory Home DRDO About DRDO Citizen Charter Who's who Nodal Officer DRDO Logo Organisation Organisation Chart Technology Clusters Laboratories & Establishments Corporate Clusters Corporate Directorates Outreach Product for Export Industry Support Products for Industry TOT DIA-CoEs ER & IPR Research Boards TDF Test Facilities Technology Foresight Careers Publications RTI Contact Us Message Board Home Message Board Public Notice Requirement Of Valid Gate Score For Direct Recruitment Of Scientist B In Drdo Public Notice - Requirement of Valid GATE Score for Direct Recruitment of Scientist B in DRDO 01/10/2024 Document(s) Requirement of Valid GATE Score for Direct Recruitment of Scientist ‘B’ in DRDO (161.95 KB) Connect with us facebook twitter instagram Related Links e-Journals TDF ADA DIAT CGDA IDST Subordinate Legislation View All Contact Us Terms & Conditions Privacy Policy Copyright Policy Hyperlink Policy Accessibility Statement Website Policy Help STQC Certificate RTI Third Party Audit Public Grievances Web Information Manager Archives Last Updated: 01/10/2024 Last Updated: 19/03/2025 Visitors: 28,119,229 Copyright © 2025, DRDO, Ministry of Defence, Government of India Back to Top Your browser does not support Javascript Your browser does not support Javascript Your browser does not support Javascript Your browser does not support Javascript Your browser does not support Javascript\"), ('doc3', 'About DRDO | Defence Research and Development Organisation - DRDO, Ministry of Defence, Government of India This page uses Javascript. Your browser either doesn\\'t support Javascript or you have it turned off. To see this page as it is meant to appear please use a Javascript enabled browser. Feedback Sitemap FAQs User account menu Login Skip to Main Content Screen Reader Access English हिंदी facebook twitter instagram Search Corporate Directory Home DRDO About DRDO Citizen Charter Who\\'s who Nodal Officer DRDO Logo Organisation Organisation Chart Technology Clusters Laboratories & Establishments Corporate Clusters Corporate Directorates Outreach Product for Export Industry Support Products for Industry TOT DIA-CoEs ER & IPR Research Boards TDF Test Facilities Technology Foresight Careers Publications RTI Contact Us About DRDO Home DRDO About DRDO DRDO is the R&D wing of Ministry of Defence, Govt of India, with a vision to empower India with cutting-edge defence technologies and a mission to achieve self-reliance in critical defence technologies and systems, while equipping our armed forces with state-of-the-art weapon systems and equipment in accordance with requirements laid down by the three Services. DRDO\\'s pursuit of self-reliance and successful indigenous development and production of strategic systems and platforms such as Agni and Prithvi series of missiles; light combat aircraft, Tejas; multi-barrel rocket launcher, Pinaka; air defence system, Akash; a wide range of radars and electronic warfare systems; etc., have given quantum jump to India\\'s military might, generating effective deterrence and providing crucial leverage. \"Balasya Mulam Vigyanam\"—the source of strength is science-drives the nation in peace and war. DRDO has firm determination to make the nation strong and self-reliant in terms of science and technology, especially in the field of military technologies. DRDO was formed in 1958 from the amalgamation of the then already functioning Technical Development Establishment (TDEs) of the Indian Army and the Directorate of Technical Development & Production (DTDP) with the Defence Science Organisation (DSO). DRDO was then a small organisation with 10 establishments or laboratories. Over the years, it has grown multi-directionally in terms of the variety of subject disciplines, number of laboratories, achievements and stature. Today, DRDO is a network of around 41 laboratories and 05 DRDO Young Scientist Laboratories (DYSLs) which are deeply engaged in developing defence technologies covering various disciplines, like aeronautics, armaments, electronics, combat vehicles, engineering systems, instrumentation, missiles, advanced computing and simulation, special materials, naval systems, life sciences, training, information systems and agriculture. Several major projects for the development of missiles, armaments, light combat aircrafts, radars, electronic warfare systems etc are on hand and significant achievements have already been made in several such technologies. Our Luminaries Vision Empowering the nation with state-of-the-art indigenous Defence technologies and systems. Mission Design, develop and lead to production state-of-the-art sensors, weapon systems, platforms and allied equipment for our Defence Services. Provide technological solutions to the Services to optimise combat effectiveness and to promote well-being of the troops. Develop infrastructure and committed quality manpower and build strong indigenous technology base. Connect with us facebook twitter instagram Related Links e-Journals TDF ADA DIAT CGDA IDST Subordinate Legislation View All Contact Us Terms & Conditions Privacy Policy Copyright Policy Hyperlink Policy Accessibility Statement Website Policy Help STQC Certificate RTI Third Party Audit Public Grievances Web Information Manager Archives Last Updated: 27/10/2023 Last Updated: 19/03/2025 Visitors: 28,119,211 Copyright © 2025, DRDO, Ministry of Defence, Government of India Back to Top Your browser does not support Javascript Your browser does not support Javascript Your browser does not support Javascript Your browser does not support Javascript Your browser does not support Javascript')]\n"
          ]
        }
      ],
      "source": [
        "import json\n",
        "\n",
        "# File paths\n",
        "data_path = \"/content/drive/My Drive/drdo_data/\"\n",
        "scraped_file = f\"/content/drdo_scraped_data.json\"\n",
        "cleaned_file = f\"/content/cleaned_drdo_scraped_data.json\"\n",
        "\n",
        "# Load both JSON files\n",
        "with open(scraped_file, \"r\", encoding=\"utf-8\") as file:\n",
        "    scraped_data = json.load(file)\n",
        "\n",
        "with open(cleaned_file, \"r\", encoding=\"utf-8\") as file:\n",
        "    cleaned_data = json.load(file)\n",
        "\n",
        "# Convert both files into dictionary format\n",
        "drdo_scraped = {f\"doc{i+1}\": content for i, content in enumerate(scraped_data.values())}\n",
        "drdo_cleaned = {f\"doc{i+1}\": content for i, content in enumerate(cleaned_data.values())}\n",
        "\n",
        "# Print sample to verify format\n",
        "print(\"Scraped Data Sample:\", list(drdo_scraped.items())[:3])\n",
        "print(\"Cleaned Data Sample:\", list(drdo_cleaned.items())[:3])"
      ]
    },
    {
      "cell_type": "code",
      "execution_count": null,
      "metadata": {
        "id": "iBM0Iq_cOFGR"
      },
      "outputs": [],
      "source": [
        "from sentence_transformers import SentenceTransformer\n",
        "import numpy as np\n",
        "import pickle\n",
        "import torch\n",
        "\n",
        "# Initialize the model with GPU if available\n",
        "device = \"cuda\" if torch.cuda.is_available() else \"cpu\"\n",
        "model = SentenceTransformer(\"all-MiniLM-L6-v2\").to(device)\n",
        "\n",
        "# Function to encode text in batches with memory optimization\n",
        "def encode_in_batches(texts, batch_size=16):\n",
        "    embeddings = []\n",
        "    with torch.no_grad():  # Prevents storing computational graphs in memory\n",
        "        for i in range(0, len(texts), batch_size):\n",
        "            batch = texts[i:i+batch_size]\n",
        "            batch_embeddings = model.encode(batch, convert_to_numpy=True)\n",
        "            embeddings.append(batch_embeddings)\n",
        "    return np.vstack(embeddings)  # Combine batch results\n",
        "\n",
        "# Create embeddings for the scraped data\n",
        "scraped_texts = list(drdo_scraped.values())\n",
        "scraped_embeddings = encode_in_batches(scraped_texts, batch_size=16)\n",
        "\n",
        "# Clear memory after processing\n",
        "del scraped_texts\n",
        "torch.cuda.empty_cache()\n",
        "\n",
        "# Create embeddings for the cleaned data\n",
        "cleaned_texts = list(drdo_cleaned.values())\n",
        "cleaned_embeddings = encode_in_batches(cleaned_texts, batch_size=16)\n",
        "\n",
        "# Clear memory after processing\n",
        "del cleaned_texts\n",
        "torch.cuda.empty_cache()\n",
        "\n",
        "# Save embeddings to Google Drive\n",
        "output_path = \"/content/drive/My Drive/drdo_data/\"\n",
        "with open(f\"{output_path}scraped_embeddings.pkl\", \"wb\") as f:\n",
        "    pickle.dump(scraped_embeddings, f)\n",
        "\n",
        "with open(f\"{output_path}cleaned_embeddings.pkl\", \"wb\") as f:\n",
        "    pickle.dump(cleaned_embeddings, f)\n",
        "\n",
        "print(\"Embeddings saved successfully!\")\n"
      ]
    }
  ],
  "metadata": {
    "colab": {
      "provenance": [],
      "mount_file_id": "1p65MmIaRbjAPprAkoQGrnkaX_AGSXTYU",
      "authorship_tag": "ABX9TyNse7Np827N8UM9Gmbmt3Yd",
      "include_colab_link": true
    },
    "kernelspec": {
      "display_name": "Python 3",
      "name": "python3"
    },
    "language_info": {
      "name": "python"
    }
  },
  "nbformat": 4,
  "nbformat_minor": 0
}