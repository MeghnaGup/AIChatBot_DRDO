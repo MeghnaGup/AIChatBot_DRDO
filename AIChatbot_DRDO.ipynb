{
  "cells": [
    {
      "cell_type": "markdown",
      "metadata": {
        "id": "view-in-github",
        "colab_type": "text"
      },
      "source": [
        "<a href=\"https://colab.research.google.com/github/MeghnaGup/AIChatBot_DRDO/blob/main/AIChatbot_DRDO.ipynb\" target=\"_parent\"><img src=\"https://colab.research.google.com/assets/colab-badge.svg\" alt=\"Open In Colab\"/></a>"
      ]
    },
    {
      "cell_type": "code",
      "execution_count": null,
      "metadata": {
        "colab": {
          "base_uri": "https://localhost:8080/"
        },
        "id": "qTaH_cuNTu_Q",
        "outputId": "7f9b2a69-a086-43b7-9bb0-c4e2009d8d2e"
      },
      "outputs": [
        {
          "name": "stdout",
          "output_type": "stream",
          "text": [
            "Requirement already satisfied: requests in /usr/local/lib/python3.11/dist-packages (2.32.3)\n",
            "Requirement already satisfied: beautifulsoup4 in /usr/local/lib/python3.11/dist-packages (4.13.3)\n",
            "Requirement already satisfied: transformers in /usr/local/lib/python3.11/dist-packages (4.49.0)\n",
            "Requirement already satisfied: flask in /usr/local/lib/python3.11/dist-packages (3.1.0)\n",
            "Requirement already satisfied: charset-normalizer<4,>=2 in /usr/local/lib/python3.11/dist-packages (from requests) (3.4.1)\n",
            "Requirement already satisfied: idna<4,>=2.5 in /usr/local/lib/python3.11/dist-packages (from requests) (3.10)\n",
            "Requirement already satisfied: urllib3<3,>=1.21.1 in /usr/local/lib/python3.11/dist-packages (from requests) (2.3.0)\n",
            "Requirement already satisfied: certifi>=2017.4.17 in /usr/local/lib/python3.11/dist-packages (from requests) (2025.1.31)\n",
            "Requirement already satisfied: soupsieve>1.2 in /usr/local/lib/python3.11/dist-packages (from beautifulsoup4) (2.6)\n",
            "Requirement already satisfied: typing-extensions>=4.0.0 in /usr/local/lib/python3.11/dist-packages (from beautifulsoup4) (4.12.2)\n",
            "Requirement already satisfied: filelock in /usr/local/lib/python3.11/dist-packages (from transformers) (3.18.0)\n",
            "Requirement already satisfied: huggingface-hub<1.0,>=0.26.0 in /usr/local/lib/python3.11/dist-packages (from transformers) (0.29.3)\n",
            "Requirement already satisfied: numpy>=1.17 in /usr/local/lib/python3.11/dist-packages (from transformers) (2.0.2)\n",
            "Requirement already satisfied: packaging>=20.0 in /usr/local/lib/python3.11/dist-packages (from transformers) (24.2)\n",
            "Requirement already satisfied: pyyaml>=5.1 in /usr/local/lib/python3.11/dist-packages (from transformers) (6.0.2)\n",
            "Requirement already satisfied: regex!=2019.12.17 in /usr/local/lib/python3.11/dist-packages (from transformers) (2024.11.6)\n",
            "Requirement already satisfied: tokenizers<0.22,>=0.21 in /usr/local/lib/python3.11/dist-packages (from transformers) (0.21.1)\n",
            "Requirement already satisfied: safetensors>=0.4.1 in /usr/local/lib/python3.11/dist-packages (from transformers) (0.5.3)\n",
            "Requirement already satisfied: tqdm>=4.27 in /usr/local/lib/python3.11/dist-packages (from transformers) (4.67.1)\n",
            "Requirement already satisfied: Werkzeug>=3.1 in /usr/local/lib/python3.11/dist-packages (from flask) (3.1.3)\n",
            "Requirement already satisfied: Jinja2>=3.1.2 in /usr/local/lib/python3.11/dist-packages (from flask) (3.1.6)\n",
            "Requirement already satisfied: itsdangerous>=2.2 in /usr/local/lib/python3.11/dist-packages (from flask) (2.2.0)\n",
            "Requirement already satisfied: click>=8.1.3 in /usr/local/lib/python3.11/dist-packages (from flask) (8.1.8)\n",
            "Requirement already satisfied: blinker>=1.9 in /usr/local/lib/python3.11/dist-packages (from flask) (1.9.0)\n",
            "Requirement already satisfied: fsspec>=2023.5.0 in /usr/local/lib/python3.11/dist-packages (from huggingface-hub<1.0,>=0.26.0->transformers) (2025.3.0)\n",
            "Requirement already satisfied: MarkupSafe>=2.0 in /usr/local/lib/python3.11/dist-packages (from Jinja2>=3.1.2->flask) (3.0.2)\n"
          ]
        }
      ],
      "source": [
        "!pip install requests beautifulsoup4 transformers flask"
      ]
    },
    {
      "cell_type": "code",
      "execution_count": null,
      "metadata": {
        "id": "3PV2P1CsT4wy"
      },
      "outputs": [],
      "source": [
        "import requests\n",
        "from bs4 import BeautifulSoup\n",
        "import json\n",
        "import time"
      ]
    },
    {
      "cell_type": "code",
      "execution_count": null,
      "metadata": {
        "id": "ju_iC1s3T8Bq"
      },
      "outputs": [],
      "source": [
        "BASE_URL = \"https://www.drdo.gov.in\""
      ]
    },
    {
      "cell_type": "code",
      "execution_count": null,
      "metadata": {
        "id": "7AmJVv0BT_hW"
      },
      "outputs": [],
      "source": [
        "def get_all_links(start_url):\n",
        "    headers = {\"User-Agent\": \"Mozilla/5.0\"}\n",
        "    response = requests.get(start_url, headers=headers)\n",
        "\n",
        "    if response.status_code != 200:\n",
        "        print(f\"Failed to access {start_url}\")\n",
        "        return []\n",
        "\n",
        "    soup = BeautifulSoup(response.text, \"html.parser\")\n",
        "    links = set()\n",
        "\n",
        "    for a_tag in soup.find_all(\"a\", href=True):\n",
        "        href = a_tag[\"href\"]\n",
        "\n",
        "        if href.startswith(\"/\") and \"http\" not in href:\n",
        "            full_link = BASE_URL + href\n",
        "            links.add(full_link)\n",
        "\n",
        "    return list(links)"
      ]
    },
    {
      "cell_type": "code",
      "execution_count": null,
      "metadata": {
        "id": "j1cYY9V5UDF9"
      },
      "outputs": [],
      "source": [
        "def scrape_page(url):\n",
        "    headers = {\"User-Agent\": \"Mozilla/5.0\"}\n",
        "    response = requests.get(url, headers=headers)\n",
        "\n",
        "    if response.status_code != 200:\n",
        "        print(f\"Failed to fetch {url}\")\n",
        "        return None\n",
        "\n",
        "    soup = BeautifulSoup(response.text, \"html.parser\")\n",
        "    content = soup.get_text(separator=\" \", strip=True)\n",
        "\n",
        "    return content\n"
      ]
    },
    {
      "cell_type": "code",
      "execution_count": null,
      "metadata": {
        "id": "hdXeos2pUGaP"
      },
      "outputs": [],
      "source": [
        "def scrape_drdo_website(start_url, limit=20):\n",
        "    scraped_data = {}\n",
        "    links_to_scrape = get_all_links(start_url)\n",
        "\n",
        "    print(f\"Found {len(links_to_scrape)} pages to scrape.\")\n",
        "\n",
        "    for i, link in enumerate(links_to_scrape[:limit]):\n",
        "        print(f\"Scraping {i+1}/{len(links_to_scrape)}: {link}\")\n",
        "        content = scrape_page(link)\n",
        "\n",
        "        if content:\n",
        "            scraped_data[link] = content\n",
        "\n",
        "        time.sleep(2)\n",
        "\n",
        "    return scraped_data"
      ]
    },
    {
      "cell_type": "code",
      "execution_count": null,
      "metadata": {
        "colab": {
          "base_uri": "https://localhost:8080/"
        },
        "id": "f9FWyISzUJsC",
        "outputId": "5cd74a6b-2349-4b28-dec8-2a67a6ead99a"
      },
      "outputs": [
        {
          "name": "stdout",
          "output_type": "stream",
          "text": [
            "Found 63 pages to scrape.\n",
            "Scraping 1/63: https://www.drdo.gov.in/drdo/accessibility-statement\n",
            "Scraping 2/63: https://www.drdo.gov.in/drdo/dr-sanjai-k-dwivedi\n",
            "Scraping 3/63: https://www.drdo.gov.in/drdo/press-release/indias-security-apparatus-must-remain-adaptive-emerging-threats-such-cyber-warfare\n",
            "Scraping 4/63: https://www.drdo.gov.in/drdo/panchi\n",
            "Scraping 5/63: https://www.drdo.gov.in/drdo/message-board/new-version-drdo-industry-partner-registration-20-will-be-launched-soon-till-time\n",
            "Scraping 6/63: https://www.drdo.gov.in/drdo/rti-third-party-audit\n",
            "Scraping 7/63: https://www.drdo.gov.in/drdo/procurement\n",
            "Scraping 8/63: https://www.drdo.gov.in/drdo/sitemap\n",
            "Scraping 9/63: https://www.drdo.gov.in/drdo/rti-cell/home\n",
            "Scraping 10/63: https://www.drdo.gov.in/drdo/computerized-pilot-selection-system-cpss\n",
            "Scraping 11/63: https://www.drdo.gov.in/drdo/copyright-policy\n",
            "Scraping 12/63: https://www.drdo.gov.in/drdo/faqs\n",
            "Scraping 13/63: https://www.drdo.gov.in/drdo/orgchart\n",
            "Scraping 14/63: https://www.drdo.gov.in/drdo/web-information-manager\n",
            "Scraping 15/63: https://www.drdo.gov.in/drdo/event/join-drdo\n",
            "Scraping 16/63: https://www.drdo.gov.in/drdo/news-corner\n",
            "Scraping 17/63: https://www.drdo.gov.in/drdo/torpedo-advanced-light-tal\n",
            "Scraping 18/63: https://www.drdo.gov.in/drdo/headquarter-directorates/extramural-research-intellectual-property-rights-er-ipr\n",
            "Scraping 19/63: https://www.drdo.gov.in/drdo/3d-low-level-light-weight-radar-aslesha-mk-i\n",
            "Scraping 20/63: https://www.drdo.gov.in/drdo/headquarter-directorates\n",
            "Scraping 21/63: https://www.drdo.gov.in/drdo/message-board/public-notice-requirement-valid-gate-score-direct-recruitment-scientist-b-drdo\n",
            "Scraping 22/63: https://www.drdo.gov.in/drdo/who-is-who\n",
            "Scraping 23/63: https://www.drdo.gov.in/drdo/test-facilities\n",
            "Scraping 24/63: https://www.drdo.gov.in/drdo/2d-low-level-light-weight-radar-lllr-bharani-mk-i\n",
            "Scraping 25/63: https://www.drdo.gov.in/drdo/headquarter-clusters\n",
            "Scraping 26/63: https://www.drdo.gov.in/drdo/drdo-technology-foresight\n",
            "Scraping 27/63: https://www.drdo.gov.in/drdo/press-release/drdo-conducts-high-altitude-trials-indigenous-integrated-life-support-system-lca\n",
            "Scraping 28/63: https://www.drdo.gov.in/drdo/hi\n",
            "Scraping 29/63: https://www.drdo.gov.in/drdo/stqc-certificate\n",
            "Scraping 30/63: https://www.drdo.gov.in/drdo/research-board\n",
            "Scraping 31/63: https://www.drdo.gov.in/drdo/photo-gallery/photo-gallery-january-and-february-2025\n",
            "Scraping 32/63: https://www.drdo.gov.in/drdo/adv-tech-center\n",
            "Scraping 33/63: https://www.drdo.gov.in/drdo/industry-interface\n",
            "Scraping 34/63: https://www.drdo.gov.in/drdo/hyper-linking-policy\n",
            "Scraping 35/63: https://www.drdo.gov.in/drdo/message-board/drdo-pensioners-corner\n",
            "Scraping 36/63: https://www.drdo.gov.in/drdo/e-journals/e-journal-services\n",
            "Scraping 37/63: https://www.drdo.gov.in/drdo/terms-conditions\n",
            "Scraping 38/63: https://www.drdo.gov.in/drdo/website-policy\n",
            "Scraping 39/63: https://www.drdo.gov.in/drdo/help\n",
            "Scraping 40/63: https://www.drdo.gov.in/drdo/labs-and-establishments\n",
            "Scraping 41/63: https://www.drdo.gov.in/drdo/student-corner\n",
            "Scraping 42/63: https://www.drdo.gov.in/drdo/technical-clusters\n",
            "Scraping 43/63: https://www.drdo.gov.in/drdo/3d-surveillance-radar-indian-navy-revathi\n",
            "Scraping 44/63: https://www.drdo.gov.in/drdo/press-release/tejas-lca-af-mk1-test-fires-beyond-visual-range-air-air-missile\n",
            "Scraping 45/63: https://www.drdo.gov.in/drdo/industry-support\n",
            "Scraping 46/63: https://www.drdo.gov.in/drdo/contact-us\n",
            "Scraping 47/63: https://www.drdo.gov.in/drdo/\n",
            "Scraping 48/63: https://www.drdo.gov.in/drdo/citizen-charter\n",
            "Scraping 49/63: https://www.drdo.gov.in/drdo/archives\n",
            "Scraping 50/63: https://www.drdo.gov.in/drdo/privacy-policy\n",
            "Scraping 51/63: https://www.drdo.gov.in/drdo/akash\n",
            "Scraping 52/63: https://www.drdo.gov.in/sites/default/files/video_storage/dhrdsep24-3.mp4\n",
            "Scraping 53/63: https://www.drdo.gov.in/drdo/member/login\n",
            "Scraping 54/63: https://www.drdo.gov.in/drdo/sites/default/files/inline-files/DRDO-Product-for-Export-2021_web.pdf\n",
            "Scraping 55/63: https://www.drdo.gov.in/drdo/feedback\n",
            "Scraping 56/63: https://www.drdo.gov.in/drdo/subordinate-legislation\n",
            "Scraping 57/63: https://www.drdo.gov.in/drdo/varunastra\n",
            "Scraping 58/63: https://www.drdo.gov.in/drdo/careers\n",
            "Scraping 59/63: https://www.drdo.gov.in/drdo/systems-and-subsystems-industry-design-development-and-manufacture\n",
            "Scraping 60/63: https://www.drdo.gov.in/drdo/publications\n",
            "Scraping 61/63: https://www.drdo.gov.in/drdo/brahmos-0\n",
            "Scraping 62/63: https://www.drdo.gov.in/drdo/transfer-technologies\n",
            "Scraping 63/63: https://www.drdo.gov.in/drdo/about-drdo\n",
            "Scraping complete! Data saved.\n"
          ]
        }
      ],
      "source": [
        "drdo_data = scrape_drdo_website(BASE_URL, limit=100)\n",
        "\n",
        "with open(\"drdo_scraped_data.json\", \"w\", encoding=\"utf-8\") as file:\n",
        "    json.dump(drdo_data, file, indent=4, ensure_ascii=False)\n",
        "\n",
        "print(\"Scraping complete! Data saved.\")"
      ]
    },
    {
      "cell_type": "code",
      "execution_count": null,
      "metadata": {
        "colab": {
          "base_uri": "https://localhost:8080/"
        },
        "id": "samiY5enYRr0",
        "outputId": "23d1e778-5234-4884-9177-73bbc06be77b"
      },
      "outputs": [
        {
          "name": "stdout",
          "output_type": "stream",
          "text": [
            "cleaned_drdo_scraped_data.json\tdrdo_scraped_data.json\tdrive  sample_data\n"
          ]
        }
      ],
      "source": [
        "!ls"
      ]
    },
    {
      "cell_type": "code",
      "execution_count": null,
      "metadata": {
        "colab": {
          "base_uri": "https://localhost:8080/"
        },
        "id": "NpO-9H4wYTK1",
        "outputId": "aa0063be-8333-460f-a6bb-d335cf077e66"
      },
      "outputs": [
        {
          "data": {
            "text/plain": [
              "['.config',\n",
              " 'cleaned_drdo_scraped_data.json',\n",
              " 'drive',\n",
              " 'drdo_scraped_data.json',\n",
              " 'sample_data']"
            ]
          },
          "execution_count": 9,
          "metadata": {},
          "output_type": "execute_result"
        }
      ],
      "source": [
        "import os\n",
        "os.listdir()"
      ]
    },
    {
      "cell_type": "code",
      "execution_count": null,
      "metadata": {
        "colab": {
          "base_uri": "https://localhost:8080/",
          "height": 34
        },
        "id": "NrDNfzjqYYCB",
        "outputId": "60ee54f6-efbd-40fe-c5eb-33b718a8a2b6"
      },
      "outputs": [
        {
          "data": {
            "application/javascript": [
              "\n",
              "    async function download(id, filename, size) {\n",
              "      if (!google.colab.kernel.accessAllowed) {\n",
              "        return;\n",
              "      }\n",
              "      const div = document.createElement('div');\n",
              "      const label = document.createElement('label');\n",
              "      label.textContent = `Downloading \"${filename}\": `;\n",
              "      div.appendChild(label);\n",
              "      const progress = document.createElement('progress');\n",
              "      progress.max = size;\n",
              "      div.appendChild(progress);\n",
              "      document.body.appendChild(div);\n",
              "\n",
              "      const buffers = [];\n",
              "      let downloaded = 0;\n",
              "\n",
              "      const channel = await google.colab.kernel.comms.open(id);\n",
              "      // Send a message to notify the kernel that we're ready.\n",
              "      channel.send({})\n",
              "\n",
              "      for await (const message of channel.messages) {\n",
              "        // Send a message to notify the kernel that we're ready.\n",
              "        channel.send({})\n",
              "        if (message.buffers) {\n",
              "          for (const buffer of message.buffers) {\n",
              "            buffers.push(buffer);\n",
              "            downloaded += buffer.byteLength;\n",
              "            progress.value = downloaded;\n",
              "          }\n",
              "        }\n",
              "      }\n",
              "      const blob = new Blob(buffers, {type: 'application/binary'});\n",
              "      const a = document.createElement('a');\n",
              "      a.href = window.URL.createObjectURL(blob);\n",
              "      a.download = filename;\n",
              "      div.appendChild(a);\n",
              "      a.click();\n",
              "      div.remove();\n",
              "    }\n",
              "  "
            ],
            "text/plain": [
              "<IPython.core.display.Javascript object>"
            ]
          },
          "metadata": {},
          "output_type": "display_data"
        },
        {
          "data": {
            "application/javascript": [
              "download(\"download_54d95699-1c1f-4da8-bc36-a52f09ac7f90\", \"drdo_scraped_data.json\", 274279042)"
            ],
            "text/plain": [
              "<IPython.core.display.Javascript object>"
            ]
          },
          "metadata": {},
          "output_type": "display_data"
        }
      ],
      "source": [
        "from google.colab import files\n",
        "files.download(\"drdo_scraped_data.json\")"
      ]
    },
    {
      "cell_type": "code",
      "execution_count": null,
      "metadata": {
        "colab": {
          "base_uri": "https://localhost:8080/"
        },
        "id": "GCRiFo8LaDDK",
        "outputId": "caf9b74e-d026-455c-890a-f04b6f5e3f49"
      },
      "outputs": [
        {
          "name": "stdout",
          "output_type": "stream",
          "text": [
            "Data cleaning complete! Cleaned data saved to cleaned_drdo_scraped_data.json\n"
          ]
        }
      ],
      "source": [
        "import re\n",
        "\n",
        "def clean_and_process_data(data):\n",
        "    cleaned_data = {}\n",
        "    seen_data = set()  # Keep track of seen data\n",
        "\n",
        "    for url, content in data.items():\n",
        "        if content:\n",
        "            # Remove whitespace characters\n",
        "            cleaned_content = re.sub(r'\\s+', ' ', content).strip()\n",
        "\n",
        "            # Handle duplicates\n",
        "            if cleaned_content not in seen_data:\n",
        "                cleaned_data[url] = cleaned_content\n",
        "                seen_data.add(cleaned_content)\n",
        "            else:\n",
        "                print(f\"Duplicate content found and removed for URL: {url}\")\n",
        "\n",
        "        else:\n",
        "            print(f\"Missing content for URL: {url}\")\n",
        "\n",
        "    return cleaned_data\n",
        "\n",
        "# Load the JSON data (assuming it's in a variable named 'drdo_data')\n",
        "# Replace 'drdo_data' with the actual variable name if it's different.\n",
        "\n",
        "# Example usage (assuming drdo_data is already populated)\n",
        "cleaned_drdo_data = clean_and_process_data(drdo_data)\n",
        "\n",
        "with open(\"cleaned_drdo_scraped_data.json\", \"w\", encoding=\"utf-8\") as file:\n",
        "    json.dump(cleaned_drdo_data, file, indent=4, ensure_ascii=False)\n",
        "\n",
        "print(\"Data cleaning complete! Cleaned data saved to cleaned_drdo_scraped_data.json\")\n"
      ]
    },
    {
      "cell_type": "code",
      "execution_count": null,
      "metadata": {
        "colab": {
          "base_uri": "https://localhost:8080/"
        },
        "id": "QHDJ7m5XbRis",
        "outputId": "25b34446-fb96-41a1-e20f-1d9c4fc963c3"
      },
      "outputs": [
        {
          "name": "stdout",
          "output_type": "stream",
          "text": [
            "Sample cleaned data: [('https://www.drdo.gov.in/drdo/accessibility-statement', \"Accessibility Statement | DRDO This page uses Javascript. Your browser either doesn't support Javascript or you have it turned off. To see this page as it is meant to appear please use a Javascript enabled browser. Feedback Sitemap FAQs User account menu Login Skip to Main Content Screen Reader Access English हिंदी facebook twitter instagram Search Corporate Directory Home DRDO About DRDO Citizen Charter Who's who Nodal Officer DRDO Logo Organisation Organisation Chart Technology Clusters Laboratories & Establishments Corporate Clusters Corporate Directorates Outreach Product for Export Industry Support Products for Industry TOT DIA-CoEs ER & IPR Research Boards TDF Test Facilities Technology Foresight Careers Publications RTI Contact Us Accessibility Statement Home Accessibility Statement We are committed to ensure that the DRDO website is accessible to all users irrespective of device in use, technology or ability. It has been built, with an aim, to provide maximum accessibility and usability to its visitors. As a result this portal can be viewed from a variety of devices such as Desktop / Laptop Computers, Web-enabled mobile devices; etc. We have put in our best efforts to ensure that all information on this portal is accessible easily. We also aim to be standards compliant and follow principles of usability and universal design, which should help all visitors of this portal. This portal is designed using HTML5 to meet Web Development Guidelines for Websites and also adheres to level A of the Web Content Accessibility Guidelines (WCAG) 2.0 laid down by the World WideWeb Consortium (W3C). Part of the information in the portal is also made available through links to external Websites. External Websites are maintained by the respective departments who are responsible for making these sites accessible. If you have any problem or suggestion regarding the accessibility of this portal, please contact us to enable us to respond in a helpful manner. Do let us know the nature of the problem along with your contact information. Connect with us facebook twitter instagram Related Links e-Journals TDF ADA DIAT CGDA IDST Subordinate Legislation View All Contact Us Terms & Conditions Privacy Policy Copyright Policy Hyperlink Policy Accessibility Statement Website Policy Help STQC Certificate RTI Third Party Audit Public Grievances Web Information Manager Archives Last Updated: 26/04/2019 Last Updated: 19/03/2025 Visitors: 28,122,182 Copyright © 2025, DRDO, Ministry of Defence, Government of India Back to Top Your browser does not support Javascript Your browser does not support Javascript Your browser does not support Javascript Your browser does not support Javascript Your browser does not support Javascript\"), ('https://www.drdo.gov.in/drdo/dr-sanjai-k-dwivedi', \"Dr Sanjai K Dwivedi | Defence Research and Development Organisation - DRDO, Ministry of Defence, Government of India This page uses Javascript. Your browser either doesn't support Javascript or you have it turned off. To see this page as it is meant to appear please use a Javascript enabled browser. Feedback Sitemap FAQs User account menu Login Skip to Main Content Screen Reader Access English हिंदी facebook twitter instagram Search Corporate Directory Home DRDO About DRDO Citizen Charter Who's who Nodal Officer DRDO Logo Organisation Organisation Chart Technology Clusters Laboratories & Establishments Corporate Clusters Corporate Directorates Outreach Product for Export Industry Support Products for Industry TOT DIA-CoEs ER & IPR Research Boards TDF Test Facilities Technology Foresight Careers Publications RTI Contact Us Dr Sanjai K Dwivedi Home DRDO Who is who Dr Sanjai K Dwivedi Dr Sanjai K Dwivedi Scientist 'G' & Director, Directorate of Personnel (DoP) Connect with us facebook twitter instagram Related Links e-Journals TDF ADA DIAT CGDA IDST Subordinate Legislation View All Contact Us Terms & Conditions Privacy Policy Copyright Policy Hyperlink Policy Accessibility Statement Website Policy Help STQC Certificate RTI Third Party Audit Public Grievances Web Information Manager Archives Last Updated: 21/08/2024 Last Updated: 19/03/2025 Visitors: 28,122,163 Copyright © 2025, DRDO, Ministry of Defence, Government of India Back to Top Your browser does not support Javascript Your browser does not support Javascript Your browser does not support Javascript Your browser does not support Javascript Your browser does not support Javascript\"), ('https://www.drdo.gov.in/drdo/press-release/indias-security-apparatus-must-remain-adaptive-emerging-threats-such-cyber-warfare', \"India’s security apparatus must remain adaptive to emerging threats such as cyber warfare, hybrid warfare, space-based challenges, and transnational organised crime: Raksha Mantri Shri Rajnath Singh | Defence Research and Development Organisation - DRDO, Ministry of Defence, Government of India This page uses Javascript. Your browser either doesn't support Javascript or you have it turned off. To see this page as it is meant to appear please use a Javascript enabled browser. Feedback Sitemap FAQs User account menu Login Skip to Main Content Screen Reader Access English हिंदी facebook twitter instagram Search Corporate Directory Home DRDO About DRDO Citizen Charter Who's who Nodal Officer DRDO Logo Organisation Organisation Chart Technology Clusters Laboratories & Establishments Corporate Clusters Corporate Directorates Outreach Product for Export Industry Support Products for Industry TOT DIA-CoEs ER & IPR Research Boards TDF Test Facilities Technology Foresight Careers Publications RTI Contact Us Press Release Home Press Release India’s Security Apparatus Must Remain Adaptive To Emerging Threats Such As Cyber Warfare, Hybrid Warfare, Space Based Challenges, And Transnational Organised Crime: Raksha Mantri Shri Rajnath Singh India’s security apparatus must remain adaptive to emerging threats such as cyber warfare, hybrid warfare, space-based challenges, and transnational organised crime: Raksha Mantri Shri Rajnath Singh 04/03/2025 Hyperlink https://pib.gov.in/PressReleasePage.aspx?PRID=2108036 Connect with us facebook twitter instagram Related Links e-Journals TDF ADA DIAT CGDA IDST Subordinate Legislation View All Contact Us Terms & Conditions Privacy Policy Copyright Policy Hyperlink Policy Accessibility Statement Website Policy Help STQC Certificate RTI Third Party Audit Public Grievances Web Information Manager Archives Last Updated: 05/03/2025 Last Updated: 19/03/2025 Visitors: 28,122,174 Copyright © 2025, DRDO, Ministry of Defence, Government of India Back to Top Your browser does not support Javascript Your browser does not support Javascript Your browser does not support Javascript Your browser does not support Javascript Your browser does not support Javascript\"), ('https://www.drdo.gov.in/drdo/panchi', \"Panchi | Defence Research and Development Organisation - DRDO, Ministry of Defence, Government of India This page uses Javascript. Your browser either doesn't support Javascript or you have it turned off. To see this page as it is meant to appear please use a Javascript enabled browser. Feedback Sitemap FAQs User account menu Login Skip to Main Content Screen Reader Access English हिंदी facebook twitter instagram Search Corporate Directory Home DRDO About DRDO Citizen Charter Who's who Nodal Officer DRDO Logo Organisation Organisation Chart Technology Clusters Laboratories & Establishments Corporate Clusters Corporate Directorates Outreach Product for Export Industry Support Products for Industry TOT DIA-CoEs ER & IPR Research Boards TDF Test Facilities Technology Foresight Careers Publications RTI Contact Us Panchi Home Product Panchi Back to Listing Panchi Labs Aeronautical Development Establishment (ADE) Technology Cluster Aeronautical Systems (Aero) Panchi is a variant of Nishant (launcher based tactical UAV) with capability of conventional take-off and landing. Panchi is integrated with an all composite landing gear and has improved flight envelope and endurance. Panchi carries a stabilized payload platform. It carries payloads like daylight camera, infrared camera and laser designator. It is powered with an indigenously developed rotary Wankel engine. It has state of art systems, capable of surveillance, reconnaissance, target location detection and artillery fire correction. Five flights of Panchi have been successfully completed proving the concept of conventional takeoff and landing. Data for aerodynamic, structure integrity and Flight control studies have been generated and analyzed. Connect with us facebook twitter instagram Related Links e-Journals TDF ADA DIAT CGDA IDST Subordinate Legislation View All Contact Us Terms & Conditions Privacy Policy Copyright Policy Hyperlink Policy Accessibility Statement Website Policy Help STQC Certificate RTI Third Party Audit Public Grievances Web Information Manager Archives Last Updated: 12/07/2019 Last Updated: 19/03/2025 Visitors: 28,122,171 Copyright © 2025, DRDO, Ministry of Defence, Government of India Back to Top Your browser does not support Javascript Your browser does not support Javascript Your browser does not support Javascript Your browser does not support Javascript Your browser does not support Javascript\"), ('https://www.drdo.gov.in/drdo/message-board/new-version-drdo-industry-partner-registration-20-will-be-launched-soon-till-time', \"A New version of DRDO Industry Partner Registration 2.0 will be launched soon. Till that time the existing DRDO Industry partner Registration Process is suspended. | Defence Research and Development Organisation - DRDO, Ministry of Defence, Government of India This page uses Javascript. Your browser either doesn't support Javascript or you have it turned off. To see this page as it is meant to appear please use a Javascript enabled browser. Feedback Sitemap FAQs User account menu Login Skip to Main Content Screen Reader Access English हिंदी facebook twitter instagram Search Corporate Directory Home DRDO About DRDO Citizen Charter Who's who Nodal Officer DRDO Logo Organisation Organisation Chart Technology Clusters Laboratories & Establishments Corporate Clusters Corporate Directorates Outreach Product for Export Industry Support Products for Industry TOT DIA-CoEs ER & IPR Research Boards TDF Test Facilities Technology Foresight Careers Publications RTI Contact Us Message Board Home Message Board A New Version Of Drdo Industry Partner Registration 2.0 Will Be Launched Soon. Till That Time The Existing Drdo Industry Partner Registration Process Is Suspended. A New version of DRDO Industry Partner Registration 2.0 will be launched soon. Till that time the existing DRDO Industry partner Registration Process is suspended. 23/01/2025 A New version of DRDO Industry Partner Registration 2.0 will be launched soon. Till that time the existing DRDO Industry partner Registration Process is suspended. डीआरडीओ उद्योग भागीदार पंजीकरण 2.0 का एक नया संस्करण जल्द ही लॉन्च किया जाएगा। उस समय तक मौजूदा डीआरडीओ उद्योग भागीदार पंजीकरण प्रक्रिया निलंबित है। Connect with us facebook twitter instagram Related Links e-Journals TDF ADA DIAT CGDA IDST Subordinate Legislation View All Contact Us Terms & Conditions Privacy Policy Copyright Policy Hyperlink Policy Accessibility Statement Website Policy Help STQC Certificate RTI Third Party Audit Public Grievances Web Information Manager Archives Last Updated: 23/01/2025 Last Updated: 19/03/2025 Visitors: 28,122,180 Copyright © 2025, DRDO, Ministry of Defence, Government of India Back to Top Your browser does not support Javascript Your browser does not support Javascript Your browser does not support Javascript Your browser does not support Javascript Your browser does not support Javascript\")]\n"
          ]
        }
      ],
      "source": [
        "with open(\"cleaned_drdo_scraped_data.json\", \"r\", encoding=\"utf-8\") as file:\n",
        "    cleaned_data = json.load(file)\n",
        "\n",
        "print(\"Sample cleaned data:\", list(cleaned_data.items())[:5])  # Show first 5 items"
      ]
    },
    {
      "cell_type": "code",
      "execution_count": null,
      "metadata": {
        "id": "V7Qi-g4QbWBC"
      },
      "outputs": [],
      "source": [
        "def clean_and_process_data(data):\n",
        "    if not data:\n",
        "        print(\"Error: No data found!\")\n",
        "        return {}\n",
        "\n",
        "    cleaned_data = {}\n",
        "    seen_data = set()\n",
        "\n",
        "    for url, content in data.items():\n",
        "        if content:\n",
        "            cleaned_content = re.sub(r'\\s+', ' ', content).strip()\n",
        "\n",
        "            if cleaned_content not in seen_data:\n",
        "                cleaned_data[url] = cleaned_content\n",
        "                seen_data.add(cleaned_content)\n",
        "            else:\n",
        "                print(f\"❌ Duplicate removed: {url}\")\n",
        "        else:\n",
        "            print(f\"⚠️ Empty content for URL: {url}\")  # Debug message\n",
        "\n",
        "    print(f\"✅ Total cleaned entries: {len(cleaned_data)}\")\n",
        "    return cleaned_data\n"
      ]
    },
    {
      "cell_type": "code",
      "execution_count": null,
      "metadata": {
        "colab": {
          "background_save": true
        },
        "id": "vXuYpl2qbZsw",
        "outputId": "c6577e3a-3ffe-4904-d082-4f90e4647fda"
      },
      "outputs": [
        {
          "name": "stdout",
          "output_type": "stream",
          "text": [
            "Buffered data was truncated after reaching the output size limit."
          ]
        }
      ],
      "source": [
        "print(f\"Raw data received: {drdo_data}\")\n",
        "print(f\"Number of entries: {len(drdo_data)}\")"
      ]
    },
    {
      "cell_type": "code",
      "execution_count": 15,
      "metadata": {
        "colab": {
          "base_uri": "https://localhost:8080/"
        },
        "id": "y8jIYj_ldn8B",
        "outputId": "b45da3a3-665f-4e52-fd9b-0e6b4f1ed87a"
      },
      "outputs": [
        {
          "output_type": "stream",
          "name": "stdout",
          "text": [
            "Number of entries: 63\n"
          ]
        }
      ],
      "source": [
        "if drdo_data is None:\n",
        "    print(\"drdo_data is None. Check if the file was loaded properly.\")\n",
        "elif not drdo_data:\n",
        "    print(\"drdo_data is empty. Check if the scraping was successful.\")\n",
        "else:\n",
        "    print(f\"Number of entries: {len(drdo_data)}\")"
      ]
    },
    {
      "cell_type": "code",
      "execution_count": 16,
      "metadata": {
        "colab": {
          "base_uri": "https://localhost:8080/"
        },
        "id": "r4iDFK6Ydujk",
        "outputId": "054cb946-7b5f-4da2-f74d-1a3eed0f57d5"
      },
      "outputs": [
        {
          "output_type": "stream",
          "name": "stdout",
          "text": [
            "✅ Total cleaned entries: 63\n"
          ]
        }
      ],
      "source": [
        "cleaned_drdo_data = clean_and_process_data(drdo_data)"
      ]
    },
    {
      "cell_type": "code",
      "execution_count": 17,
      "metadata": {
        "colab": {
          "base_uri": "https://localhost:8080/"
        },
        "id": "1Vx3OtKEdztd",
        "outputId": "465ed270-7db1-4e10-cb94-f7243c222b7a"
      },
      "outputs": [
        {
          "output_type": "stream",
          "name": "stdout",
          "text": [
            "Total cleaned entries: 63\n"
          ]
        }
      ],
      "source": [
        "print(f\"Total cleaned entries: {len(cleaned_drdo_data)}\")"
      ]
    },
    {
      "cell_type": "code",
      "execution_count": 18,
      "metadata": {
        "colab": {
          "base_uri": "https://localhost:8080/"
        },
        "id": "Qk0101Vud6FI",
        "outputId": "5e42b836-0b68-4360-ce77-a936310d26a1"
      },
      "outputs": [
        {
          "output_type": "stream",
          "name": "stdout",
          "text": [
            "Data cleaning complete! Cleaned data saved successfully.\n"
          ]
        }
      ],
      "source": [
        "import json\n",
        "\n",
        "with open(\"cleaned_drdo_scraped_data.json\", \"w\", encoding=\"utf-8\") as file:\n",
        "    json.dump(cleaned_drdo_data, file, indent=4, ensure_ascii=False)\n",
        "\n",
        "print(\"Data cleaning complete! Cleaned data saved successfully.\")\n"
      ]
    },
    {
      "cell_type": "code",
      "execution_count": 19,
      "metadata": {
        "colab": {
          "base_uri": "https://localhost:8080/",
          "height": 17
        },
        "id": "fjuqTeZaeASs",
        "outputId": "95012cf5-c446-4e39-b832-c982b4c29e2a"
      },
      "outputs": [
        {
          "output_type": "display_data",
          "data": {
            "text/plain": [
              "<IPython.core.display.Javascript object>"
            ],
            "application/javascript": [
              "\n",
              "    async function download(id, filename, size) {\n",
              "      if (!google.colab.kernel.accessAllowed) {\n",
              "        return;\n",
              "      }\n",
              "      const div = document.createElement('div');\n",
              "      const label = document.createElement('label');\n",
              "      label.textContent = `Downloading \"${filename}\": `;\n",
              "      div.appendChild(label);\n",
              "      const progress = document.createElement('progress');\n",
              "      progress.max = size;\n",
              "      div.appendChild(progress);\n",
              "      document.body.appendChild(div);\n",
              "\n",
              "      const buffers = [];\n",
              "      let downloaded = 0;\n",
              "\n",
              "      const channel = await google.colab.kernel.comms.open(id);\n",
              "      // Send a message to notify the kernel that we're ready.\n",
              "      channel.send({})\n",
              "\n",
              "      for await (const message of channel.messages) {\n",
              "        // Send a message to notify the kernel that we're ready.\n",
              "        channel.send({})\n",
              "        if (message.buffers) {\n",
              "          for (const buffer of message.buffers) {\n",
              "            buffers.push(buffer);\n",
              "            downloaded += buffer.byteLength;\n",
              "            progress.value = downloaded;\n",
              "          }\n",
              "        }\n",
              "      }\n",
              "      const blob = new Blob(buffers, {type: 'application/binary'});\n",
              "      const a = document.createElement('a');\n",
              "      a.href = window.URL.createObjectURL(blob);\n",
              "      a.download = filename;\n",
              "      div.appendChild(a);\n",
              "      a.click();\n",
              "      div.remove();\n",
              "    }\n",
              "  "
            ]
          },
          "metadata": {}
        },
        {
          "output_type": "display_data",
          "data": {
            "text/plain": [
              "<IPython.core.display.Javascript object>"
            ],
            "application/javascript": [
              "download(\"download_b51e4104-9564-42c1-8a68-25ec1bc73cdf\", \"cleaned_drdo_scraped_data.json\", 261344791)"
            ]
          },
          "metadata": {}
        }
      ],
      "source": [
        "from google.colab import files\n",
        "files.download(\"cleaned_drdo_scraped_data.json\")"
      ]
    },
    {
      "cell_type": "code",
      "execution_count": null,
      "metadata": {
        "colab": {
          "base_uri": "https://localhost:8080/"
        },
        "id": "4oK9jC1Teg4Z",
        "outputId": "47f65465-d3f3-4463-a096-6df8b901d012"
      },
      "outputs": [
        {
          "name": "stdout",
          "output_type": "stream",
          "text": [
            "Requirement already satisfied: faiss-cpu in /usr/local/lib/python3.11/dist-packages (1.10.0)\n",
            "Requirement already satisfied: numpy<3.0,>=1.25.0 in /usr/local/lib/python3.11/dist-packages (from faiss-cpu) (2.0.2)\n",
            "Requirement already satisfied: packaging in /usr/local/lib/python3.11/dist-packages (from faiss-cpu) (24.2)\n"
          ]
        }
      ],
      "source": [
        "!pip install faiss-cpu"
      ]
    },
    {
      "cell_type": "code",
      "execution_count": 20,
      "metadata": {
        "colab": {
          "base_uri": "https://localhost:8080/"
        },
        "id": "-xCQCVj0enEj",
        "outputId": "7ed7e6f7-e494-488c-eb05-d0df3eaf4fa0"
      },
      "outputs": [
        {
          "output_type": "stream",
          "name": "stdout",
          "text": [
            "Loaded 63 entries from the cleaned dataset.\n"
          ]
        }
      ],
      "source": [
        "import json\n",
        "\n",
        "with open(\"cleaned_drdo_scraped_data.json\", \"r\", encoding=\"utf-8\") as file:\n",
        "    drdo_data = json.load(file)\n",
        "\n",
        "print(f\"Loaded {len(drdo_data)} entries from the cleaned dataset.\")"
      ]
    },
    {
      "cell_type": "code",
      "execution_count": 21,
      "metadata": {
        "colab": {
          "base_uri": "https://localhost:8080/"
        },
        "id": "UXfWOQIrerwW",
        "outputId": "2148038b-dfc8-48e6-8c6a-aa2799b7adcc"
      },
      "outputs": [
        {
          "output_type": "stream",
          "name": "stdout",
          "text": [
            "Requirement already satisfied: onedrivesdk in /usr/local/lib/python3.11/dist-packages (2.0.1)\n",
            "Drive already mounted at /content/drive; to attempt to forcibly remount, call drive.mount(\"/content/drive\", force_remount=True).\n"
          ]
        }
      ],
      "source": [
        "!pip install onedrivesdk\n",
        "from google.colab import drive\n",
        "drive.mount('/content/drive')"
      ]
    },
    {
      "cell_type": "code",
      "execution_count": 22,
      "metadata": {
        "colab": {
          "base_uri": "https://localhost:8080/"
        },
        "id": "NDtWgAmws2G-",
        "outputId": "64e04842-0dc3-441e-8836-f1b09a0f184c"
      },
      "outputs": [
        {
          "output_type": "stream",
          "name": "stdout",
          "text": [
            "['Untitled0.ipynb', 'Untitled1.ipynb', 'Meghna Gupta, 023 CSE.ipynb', 'Copy of Project 7. Wine Quality Prediction.ipynb', 'Practice.ipynb', 'Untitled2.ipynb', 'Flipkart_Reviews_Sentiment_Analysis_using_Python (1).ipynb', 'Untitled3.ipynb', 'Untitled4.ipynb', 'Untitled5.ipynb', 'classification(1).ipynb', 'Flipkart_Reviews_Sentiment_Analysis_using_Python.ipynb', 'House_Price_Prediction_using_Machine_Learning_.ipynb', 'Customer_Segmentation_in_Python.ipynb', 'customer_churn (2).ipynb', 'customer_churn (1).ipynb', 'Untitled6.ipynb', 'customer_churn.ipynb', 'Untitled', 'credit.ipynb', 'Untitled7.ipynb', 'Experiment - 2.ipynb', 'experiment - 1.ipynb', 'experiment - 2.ipynb', 'experiment - 3.ipynb', 'Experiment - 5.ipynb', 'experiment - 4.ipynb', 'Experiment - 6.ipynb', 'Untitled9.ipynb', 'WebScrapping.ipynb', 'AIChatbot_DRDO.ipynb']\n"
          ]
        }
      ],
      "source": [
        "print(os.listdir(\"/content/drive/My Drive/Colab Notebooks/\"))"
      ]
    },
    {
      "cell_type": "code",
      "execution_count": 23,
      "metadata": {
        "colab": {
          "base_uri": "https://localhost:8080/"
        },
        "id": "caswjY0etuaA",
        "outputId": "28430e36-3d91-434d-f0f8-5aeacc1e1bce"
      },
      "outputs": [
        {
          "output_type": "stream",
          "name": "stdout",
          "text": [
            "Requirement already satisfied: sentence-transformers in /usr/local/lib/python3.11/dist-packages (3.4.1)\n",
            "Requirement already satisfied: transformers<5.0.0,>=4.41.0 in /usr/local/lib/python3.11/dist-packages (from sentence-transformers) (4.49.0)\n",
            "Requirement already satisfied: tqdm in /usr/local/lib/python3.11/dist-packages (from sentence-transformers) (4.67.1)\n",
            "Requirement already satisfied: torch>=1.11.0 in /usr/local/lib/python3.11/dist-packages (from sentence-transformers) (2.6.0+cu124)\n",
            "Requirement already satisfied: scikit-learn in /usr/local/lib/python3.11/dist-packages (from sentence-transformers) (1.6.1)\n",
            "Requirement already satisfied: scipy in /usr/local/lib/python3.11/dist-packages (from sentence-transformers) (1.14.1)\n",
            "Requirement already satisfied: huggingface-hub>=0.20.0 in /usr/local/lib/python3.11/dist-packages (from sentence-transformers) (0.29.3)\n",
            "Requirement already satisfied: Pillow in /usr/local/lib/python3.11/dist-packages (from sentence-transformers) (11.1.0)\n",
            "Requirement already satisfied: filelock in /usr/local/lib/python3.11/dist-packages (from huggingface-hub>=0.20.0->sentence-transformers) (3.18.0)\n",
            "Requirement already satisfied: fsspec>=2023.5.0 in /usr/local/lib/python3.11/dist-packages (from huggingface-hub>=0.20.0->sentence-transformers) (2025.3.0)\n",
            "Requirement already satisfied: packaging>=20.9 in /usr/local/lib/python3.11/dist-packages (from huggingface-hub>=0.20.0->sentence-transformers) (24.2)\n",
            "Requirement already satisfied: pyyaml>=5.1 in /usr/local/lib/python3.11/dist-packages (from huggingface-hub>=0.20.0->sentence-transformers) (6.0.2)\n",
            "Requirement already satisfied: requests in /usr/local/lib/python3.11/dist-packages (from huggingface-hub>=0.20.0->sentence-transformers) (2.32.3)\n",
            "Requirement already satisfied: typing-extensions>=3.7.4.3 in /usr/local/lib/python3.11/dist-packages (from huggingface-hub>=0.20.0->sentence-transformers) (4.12.2)\n",
            "Requirement already satisfied: networkx in /usr/local/lib/python3.11/dist-packages (from torch>=1.11.0->sentence-transformers) (3.4.2)\n",
            "Requirement already satisfied: jinja2 in /usr/local/lib/python3.11/dist-packages (from torch>=1.11.0->sentence-transformers) (3.1.6)\n",
            "Requirement already satisfied: nvidia-cuda-nvrtc-cu12==12.4.127 in /usr/local/lib/python3.11/dist-packages (from torch>=1.11.0->sentence-transformers) (12.4.127)\n",
            "Requirement already satisfied: nvidia-cuda-runtime-cu12==12.4.127 in /usr/local/lib/python3.11/dist-packages (from torch>=1.11.0->sentence-transformers) (12.4.127)\n",
            "Requirement already satisfied: nvidia-cuda-cupti-cu12==12.4.127 in /usr/local/lib/python3.11/dist-packages (from torch>=1.11.0->sentence-transformers) (12.4.127)\n",
            "Requirement already satisfied: nvidia-cudnn-cu12==9.1.0.70 in /usr/local/lib/python3.11/dist-packages (from torch>=1.11.0->sentence-transformers) (9.1.0.70)\n",
            "Requirement already satisfied: nvidia-cublas-cu12==12.4.5.8 in /usr/local/lib/python3.11/dist-packages (from torch>=1.11.0->sentence-transformers) (12.4.5.8)\n",
            "Requirement already satisfied: nvidia-cufft-cu12==11.2.1.3 in /usr/local/lib/python3.11/dist-packages (from torch>=1.11.0->sentence-transformers) (11.2.1.3)\n",
            "Requirement already satisfied: nvidia-curand-cu12==10.3.5.147 in /usr/local/lib/python3.11/dist-packages (from torch>=1.11.0->sentence-transformers) (10.3.5.147)\n",
            "Requirement already satisfied: nvidia-cusolver-cu12==11.6.1.9 in /usr/local/lib/python3.11/dist-packages (from torch>=1.11.0->sentence-transformers) (11.6.1.9)\n",
            "Requirement already satisfied: nvidia-cusparse-cu12==12.3.1.170 in /usr/local/lib/python3.11/dist-packages (from torch>=1.11.0->sentence-transformers) (12.3.1.170)\n",
            "Requirement already satisfied: nvidia-cusparselt-cu12==0.6.2 in /usr/local/lib/python3.11/dist-packages (from torch>=1.11.0->sentence-transformers) (0.6.2)\n",
            "Requirement already satisfied: nvidia-nccl-cu12==2.21.5 in /usr/local/lib/python3.11/dist-packages (from torch>=1.11.0->sentence-transformers) (2.21.5)\n",
            "Requirement already satisfied: nvidia-nvtx-cu12==12.4.127 in /usr/local/lib/python3.11/dist-packages (from torch>=1.11.0->sentence-transformers) (12.4.127)\n",
            "Requirement already satisfied: nvidia-nvjitlink-cu12==12.4.127 in /usr/local/lib/python3.11/dist-packages (from torch>=1.11.0->sentence-transformers) (12.4.127)\n",
            "Requirement already satisfied: triton==3.2.0 in /usr/local/lib/python3.11/dist-packages (from torch>=1.11.0->sentence-transformers) (3.2.0)\n",
            "Requirement already satisfied: sympy==1.13.1 in /usr/local/lib/python3.11/dist-packages (from torch>=1.11.0->sentence-transformers) (1.13.1)\n",
            "Requirement already satisfied: mpmath<1.4,>=1.1.0 in /usr/local/lib/python3.11/dist-packages (from sympy==1.13.1->torch>=1.11.0->sentence-transformers) (1.3.0)\n",
            "Requirement already satisfied: numpy>=1.17 in /usr/local/lib/python3.11/dist-packages (from transformers<5.0.0,>=4.41.0->sentence-transformers) (2.0.2)\n",
            "Requirement already satisfied: regex!=2019.12.17 in /usr/local/lib/python3.11/dist-packages (from transformers<5.0.0,>=4.41.0->sentence-transformers) (2024.11.6)\n",
            "Requirement already satisfied: tokenizers<0.22,>=0.21 in /usr/local/lib/python3.11/dist-packages (from transformers<5.0.0,>=4.41.0->sentence-transformers) (0.21.1)\n",
            "Requirement already satisfied: safetensors>=0.4.1 in /usr/local/lib/python3.11/dist-packages (from transformers<5.0.0,>=4.41.0->sentence-transformers) (0.5.3)\n",
            "Requirement already satisfied: joblib>=1.2.0 in /usr/local/lib/python3.11/dist-packages (from scikit-learn->sentence-transformers) (1.4.2)\n",
            "Requirement already satisfied: threadpoolctl>=3.1.0 in /usr/local/lib/python3.11/dist-packages (from scikit-learn->sentence-transformers) (3.6.0)\n",
            "Requirement already satisfied: MarkupSafe>=2.0 in /usr/local/lib/python3.11/dist-packages (from jinja2->torch>=1.11.0->sentence-transformers) (3.0.2)\n",
            "Requirement already satisfied: charset-normalizer<4,>=2 in /usr/local/lib/python3.11/dist-packages (from requests->huggingface-hub>=0.20.0->sentence-transformers) (3.4.1)\n",
            "Requirement already satisfied: idna<4,>=2.5 in /usr/local/lib/python3.11/dist-packages (from requests->huggingface-hub>=0.20.0->sentence-transformers) (3.10)\n",
            "Requirement already satisfied: urllib3<3,>=1.21.1 in /usr/local/lib/python3.11/dist-packages (from requests->huggingface-hub>=0.20.0->sentence-transformers) (2.3.0)\n",
            "Requirement already satisfied: certifi>=2017.4.17 in /usr/local/lib/python3.11/dist-packages (from requests->huggingface-hub>=0.20.0->sentence-transformers) (2025.1.31)\n"
          ]
        },
        {
          "output_type": "stream",
          "name": "stderr",
          "text": [
            "/usr/local/lib/python3.11/dist-packages/huggingface_hub/utils/_auth.py:94: UserWarning: \n",
            "The secret `HF_TOKEN` does not exist in your Colab secrets.\n",
            "To authenticate with the Hugging Face Hub, create a token in your settings tab (https://huggingface.co/settings/tokens), set it as secret in your Google Colab and restart your session.\n",
            "You will be able to reuse this secret in all of your notebooks.\n",
            "Please note that authentication is recommended but still optional to access public models or datasets.\n",
            "  warnings.warn(\n"
          ]
        },
        {
          "output_type": "stream",
          "name": "stdout",
          "text": [
            "Embeddings saved to OneDrive: /content/drive/My Drive/embeddings.pkl\n"
          ]
        }
      ],
      "source": [
        "!pip install sentence-transformers\n",
        "import numpy as np\n",
        "import gc\n",
        "import torch\n",
        "import pickle  # To save embeddings\n",
        "from sentence_transformers import SentenceTransformer\n",
        "\n",
        "# Free up memory\n",
        "gc.collect()\n",
        "torch.cuda.empty_cache()\n",
        "\n",
        "# Define drdo_data (Replace this with your actual data)\n",
        "drdo_data = {\n",
        "    \"doc1\": \"This is the first document.\",\n",
        "    \"doc2\": \"This is the second document.\",\n",
        "    \"doc3\": \"Here is another example of a document.\"\n",
        "}\n",
        "\n",
        "texts = list(drdo_data.values())\n",
        "\n",
        "batch_size = 10  # Adjust batch size based on memory\n",
        "embeddings_list = []\n",
        "\n",
        "# Load a lightweight model\n",
        "model = SentenceTransformer(\"all-MiniLM-L6-v2\")\n",
        "\n",
        "# Process and save embeddings in batches\n",
        "for i in range(0, len(texts), batch_size):\n",
        "    batch = texts[i : i + batch_size]\n",
        "    batch_embeddings = model.encode(batch, convert_to_numpy=True)\n",
        "    embeddings_list.append(batch_embeddings)\n",
        "\n",
        "# Combine all embeddings into a single array\n",
        "embeddings = np.vstack(embeddings_list)\n",
        "\n",
        "# Define file path in OneDrive (Change to your directory)\n",
        "file_path = \"/content/drive/My Drive/embeddings.pkl\"\n",
        "\n",
        "# Save embeddings to OneDrive\n",
        "with open(file_path, \"wb\") as f:\n",
        "    pickle.dump(embeddings, f)\n",
        "\n",
        "print(\"Embeddings saved to OneDrive:\", file_path)\n"
      ]
    },
    {
      "cell_type": "code",
      "execution_count": 24,
      "metadata": {
        "colab": {
          "base_uri": "https://localhost:8080/"
        },
        "id": "yUYpTYlYxbae",
        "outputId": "93829e4c-d01e-4618-e16b-0ab583bbe398"
      },
      "outputs": [
        {
          "output_type": "stream",
          "name": "stdout",
          "text": [
            "Loaded embeddings shape: (3, 384)\n"
          ]
        }
      ],
      "source": [
        "with open(file_path, \"rb\") as f:\n",
        "    embeddings = pickle.load(f)\n",
        "\n",
        "print(\"Loaded embeddings shape:\", embeddings.shape)"
      ]
    },
    {
      "cell_type": "code",
      "execution_count": 25,
      "metadata": {
        "colab": {
          "base_uri": "https://localhost:8080/"
        },
        "id": "VeiqmcORLcpj",
        "outputId": "01a97ab5-fb43-403e-a0fa-e7faeba9dd76"
      },
      "outputs": [
        {
          "output_type": "stream",
          "name": "stdout",
          "text": [
            "Scraped Data Sample: [('doc1', \"Accessibility Statement | DRDO This page uses Javascript. Your browser either doesn't support Javascript or you have it turned off. To see this page as it is meant to appear please use a Javascript enabled browser. Feedback Sitemap FAQs User account menu Login Skip to Main Content Screen Reader Access English हिंदी facebook twitter instagram Search Corporate Directory Home DRDO About DRDO Citizen Charter Who's who Nodal Officer DRDO Logo Organisation Organisation Chart Technology Clusters Laboratories & Establishments Corporate Clusters Corporate Directorates Outreach Product for Export Industry Support Products for Industry TOT DIA-CoEs ER & IPR Research Boards TDF Test Facilities Technology Foresight Careers Publications RTI Contact Us Accessibility Statement Home Accessibility Statement We are committed to ensure that the DRDO website is accessible to all users irrespective of device in use, technology or ability. It has been built, with an aim, to provide maximum accessibility and usability to its visitors. As a result this portal can be viewed from a variety of devices such as Desktop / Laptop Computers, Web-enabled mobile devices; etc. We have put in our best efforts to ensure that all information on this portal is accessible easily. We also aim to be standards compliant and follow principles of usability and universal design, which should help all visitors of this portal. This portal is designed using HTML5 to meet Web Development Guidelines for Websites and also adheres to level A of the Web Content Accessibility Guidelines (WCAG) 2.0 laid down by the World WideWeb Consortium (W3C). Part of the information in the portal is also made available through links to external Websites. External Websites are maintained by the respective departments who are responsible for making these sites accessible. If you have any problem or suggestion regarding the accessibility of this portal, please contact us to enable us to respond in a helpful manner. Do let us know the nature of the problem along with your contact information. Connect with us facebook twitter instagram Related Links e-Journals TDF ADA DIAT CGDA IDST Subordinate Legislation View All Contact Us Terms & Conditions Privacy Policy Copyright Policy Hyperlink Policy Accessibility Statement Website Policy Help STQC Certificate RTI Third Party Audit Public Grievances Web Information Manager Archives Last Updated: 26/04/2019 Last Updated: 19/03/2025 Visitors: 28,122,182 Copyright © 2025, DRDO, Ministry of Defence, Government of  India Back to Top Your browser does not support Javascript Your browser does not support Javascript Your browser does not support Javascript Your browser does not support Javascript Your browser does not support Javascript\"), ('doc2', \"Dr Sanjai K Dwivedi | Defence Research and Development Organisation - DRDO, Ministry of Defence, Government of India This page uses Javascript. Your browser either doesn't support Javascript or you have it turned off. To see this page as it is meant to appear please use a Javascript enabled browser. Feedback Sitemap FAQs User account menu Login Skip to Main Content Screen Reader Access English हिंदी facebook twitter instagram Search Corporate Directory Home DRDO About DRDO Citizen Charter Who's who Nodal Officer DRDO Logo Organisation Organisation Chart Technology Clusters Laboratories & Establishments Corporate Clusters Corporate Directorates Outreach Product for Export Industry Support Products for Industry TOT DIA-CoEs ER & IPR Research Boards TDF Test Facilities Technology Foresight Careers Publications RTI Contact Us Dr Sanjai K Dwivedi Home DRDO Who is who Dr Sanjai K Dwivedi Dr Sanjai K Dwivedi Scientist 'G' & Director, Directorate of Personnel (DoP) Connect with us facebook twitter instagram Related Links e-Journals TDF ADA DIAT CGDA IDST Subordinate Legislation View All Contact Us Terms & Conditions Privacy Policy Copyright Policy Hyperlink Policy Accessibility Statement Website Policy Help STQC Certificate RTI Third Party Audit Public Grievances Web Information Manager Archives Last Updated: 21/08/2024 Last Updated: 19/03/2025 Visitors: 28,122,163 Copyright © 2025, DRDO, Ministry of Defence, Government of  India Back to Top Your browser does not support Javascript Your browser does not support Javascript Your browser does not support Javascript Your browser does not support Javascript Your browser does not support Javascript\"), ('doc3', \"India’s security apparatus must remain adaptive to emerging threats such as cyber warfare, hybrid warfare, space-based challenges, and transnational organised crime: Raksha Mantri Shri Rajnath Singh | Defence Research and Development Organisation - DRDO, Ministry of Defence, Government of India This page uses Javascript. Your browser either doesn't support Javascript or you have it turned off. To see this page as it is meant to appear please use a Javascript enabled browser. Feedback Sitemap FAQs User account menu Login Skip to Main Content Screen Reader Access English हिंदी facebook twitter instagram Search Corporate Directory Home DRDO About DRDO Citizen Charter Who's who Nodal Officer DRDO Logo Organisation Organisation Chart Technology Clusters Laboratories & Establishments Corporate Clusters Corporate Directorates Outreach Product for Export Industry Support Products for Industry TOT DIA-CoEs ER & IPR Research Boards TDF Test Facilities Technology Foresight Careers Publications RTI Contact Us Press Release Home Press Release India’s Security Apparatus Must Remain Adaptive To Emerging Threats Such As Cyber Warfare, Hybrid Warfare, Space Based Challenges, And Transnational Organised Crime: Raksha Mantri Shri Rajnath Singh India’s security apparatus must remain adaptive to emerging threats such as cyber warfare, hybrid warfare, space-based challenges, and transnational organised crime: Raksha Mantri Shri Rajnath Singh 04/03/2025 Hyperlink https://pib.gov.in/PressReleasePage.aspx?PRID=2108036 Connect with us facebook twitter instagram Related Links e-Journals TDF ADA DIAT CGDA IDST Subordinate Legislation View All Contact Us Terms & Conditions Privacy Policy Copyright Policy Hyperlink Policy Accessibility Statement Website Policy Help STQC Certificate RTI Third Party Audit Public Grievances Web Information Manager Archives Last Updated: 05/03/2025 Last Updated: 19/03/2025 Visitors: 28,122,174 Copyright © 2025, DRDO, Ministry of Defence, Government of  India Back to Top Your browser does not support Javascript Your browser does not support Javascript Your browser does not support Javascript Your browser does not support Javascript Your browser does not support Javascript\")]\n",
            "Cleaned Data Sample: [('doc1', \"Accessibility Statement | DRDO This page uses Javascript. Your browser either doesn't support Javascript or you have it turned off. To see this page as it is meant to appear please use a Javascript enabled browser. Feedback Sitemap FAQs User account menu Login Skip to Main Content Screen Reader Access English हिंदी facebook twitter instagram Search Corporate Directory Home DRDO About DRDO Citizen Charter Who's who Nodal Officer DRDO Logo Organisation Organisation Chart Technology Clusters Laboratories & Establishments Corporate Clusters Corporate Directorates Outreach Product for Export Industry Support Products for Industry TOT DIA-CoEs ER & IPR Research Boards TDF Test Facilities Technology Foresight Careers Publications RTI Contact Us Accessibility Statement Home Accessibility Statement We are committed to ensure that the DRDO website is accessible to all users irrespective of device in use, technology or ability. It has been built, with an aim, to provide maximum accessibility and usability to its visitors. As a result this portal can be viewed from a variety of devices such as Desktop / Laptop Computers, Web-enabled mobile devices; etc. We have put in our best efforts to ensure that all information on this portal is accessible easily. We also aim to be standards compliant and follow principles of usability and universal design, which should help all visitors of this portal. This portal is designed using HTML5 to meet Web Development Guidelines for Websites and also adheres to level A of the Web Content Accessibility Guidelines (WCAG) 2.0 laid down by the World WideWeb Consortium (W3C). Part of the information in the portal is also made available through links to external Websites. External Websites are maintained by the respective departments who are responsible for making these sites accessible. If you have any problem or suggestion regarding the accessibility of this portal, please contact us to enable us to respond in a helpful manner. Do let us know the nature of the problem along with your contact information. Connect with us facebook twitter instagram Related Links e-Journals TDF ADA DIAT CGDA IDST Subordinate Legislation View All Contact Us Terms & Conditions Privacy Policy Copyright Policy Hyperlink Policy Accessibility Statement Website Policy Help STQC Certificate RTI Third Party Audit Public Grievances Web Information Manager Archives Last Updated: 26/04/2019 Last Updated: 19/03/2025 Visitors: 28,122,182 Copyright © 2025, DRDO, Ministry of Defence, Government of India Back to Top Your browser does not support Javascript Your browser does not support Javascript Your browser does not support Javascript Your browser does not support Javascript Your browser does not support Javascript\"), ('doc2', \"Dr Sanjai K Dwivedi | Defence Research and Development Organisation - DRDO, Ministry of Defence, Government of India This page uses Javascript. Your browser either doesn't support Javascript or you have it turned off. To see this page as it is meant to appear please use a Javascript enabled browser. Feedback Sitemap FAQs User account menu Login Skip to Main Content Screen Reader Access English हिंदी facebook twitter instagram Search Corporate Directory Home DRDO About DRDO Citizen Charter Who's who Nodal Officer DRDO Logo Organisation Organisation Chart Technology Clusters Laboratories & Establishments Corporate Clusters Corporate Directorates Outreach Product for Export Industry Support Products for Industry TOT DIA-CoEs ER & IPR Research Boards TDF Test Facilities Technology Foresight Careers Publications RTI Contact Us Dr Sanjai K Dwivedi Home DRDO Who is who Dr Sanjai K Dwivedi Dr Sanjai K Dwivedi Scientist 'G' & Director, Directorate of Personnel (DoP) Connect with us facebook twitter instagram Related Links e-Journals TDF ADA DIAT CGDA IDST Subordinate Legislation View All Contact Us Terms & Conditions Privacy Policy Copyright Policy Hyperlink Policy Accessibility Statement Website Policy Help STQC Certificate RTI Third Party Audit Public Grievances Web Information Manager Archives Last Updated: 21/08/2024 Last Updated: 19/03/2025 Visitors: 28,122,163 Copyright © 2025, DRDO, Ministry of Defence, Government of India Back to Top Your browser does not support Javascript Your browser does not support Javascript Your browser does not support Javascript Your browser does not support Javascript Your browser does not support Javascript\"), ('doc3', \"India’s security apparatus must remain adaptive to emerging threats such as cyber warfare, hybrid warfare, space-based challenges, and transnational organised crime: Raksha Mantri Shri Rajnath Singh | Defence Research and Development Organisation - DRDO, Ministry of Defence, Government of India This page uses Javascript. Your browser either doesn't support Javascript or you have it turned off. To see this page as it is meant to appear please use a Javascript enabled browser. Feedback Sitemap FAQs User account menu Login Skip to Main Content Screen Reader Access English हिंदी facebook twitter instagram Search Corporate Directory Home DRDO About DRDO Citizen Charter Who's who Nodal Officer DRDO Logo Organisation Organisation Chart Technology Clusters Laboratories & Establishments Corporate Clusters Corporate Directorates Outreach Product for Export Industry Support Products for Industry TOT DIA-CoEs ER & IPR Research Boards TDF Test Facilities Technology Foresight Careers Publications RTI Contact Us Press Release Home Press Release India’s Security Apparatus Must Remain Adaptive To Emerging Threats Such As Cyber Warfare, Hybrid Warfare, Space Based Challenges, And Transnational Organised Crime: Raksha Mantri Shri Rajnath Singh India’s security apparatus must remain adaptive to emerging threats such as cyber warfare, hybrid warfare, space-based challenges, and transnational organised crime: Raksha Mantri Shri Rajnath Singh 04/03/2025 Hyperlink https://pib.gov.in/PressReleasePage.aspx?PRID=2108036 Connect with us facebook twitter instagram Related Links e-Journals TDF ADA DIAT CGDA IDST Subordinate Legislation View All Contact Us Terms & Conditions Privacy Policy Copyright Policy Hyperlink Policy Accessibility Statement Website Policy Help STQC Certificate RTI Third Party Audit Public Grievances Web Information Manager Archives Last Updated: 05/03/2025 Last Updated: 19/03/2025 Visitors: 28,122,174 Copyright © 2025, DRDO, Ministry of Defence, Government of India Back to Top Your browser does not support Javascript Your browser does not support Javascript Your browser does not support Javascript Your browser does not support Javascript Your browser does not support Javascript\")]\n"
          ]
        }
      ],
      "source": [
        "import json\n",
        "\n",
        "# File paths\n",
        "data_path = \"/content/drive/My Drive/drdo_data/\"\n",
        "scraped_file = f\"/content/drdo_scraped_data.json\"\n",
        "cleaned_file = f\"/content/cleaned_drdo_scraped_data.json\"\n",
        "\n",
        "# Load both JSON files\n",
        "with open(scraped_file, \"r\", encoding=\"utf-8\") as file:\n",
        "    scraped_data = json.load(file)\n",
        "\n",
        "with open(cleaned_file, \"r\", encoding=\"utf-8\") as file:\n",
        "    cleaned_data = json.load(file)\n",
        "\n",
        "# Convert both files into dictionary format\n",
        "drdo_scraped = {f\"doc{i+1}\": content for i, content in enumerate(scraped_data.values())}\n",
        "drdo_cleaned = {f\"doc{i+1}\": content for i, content in enumerate(cleaned_data.values())}\n",
        "\n",
        "# Print sample to verify format\n",
        "print(\"Scraped Data Sample:\", list(drdo_scraped.items())[:3])\n",
        "print(\"Cleaned Data Sample:\", list(drdo_cleaned.items())[:3])"
      ]
    },
    {
      "cell_type": "code",
      "execution_count": null,
      "metadata": {
        "colab": {
          "base_uri": "https://localhost:8080/"
        },
        "id": "-X_z46asfxsb",
        "outputId": "eb1cbaf5-68b5-44cb-f6f8-1c24fe7f0b19"
      },
      "outputs": [
        {
          "name": "stdout",
          "output_type": "stream",
          "text": [
            "/content/AIChatbot_DRDO\n"
          ]
        }
      ],
      "source": [
        "%cd /content/AIChatbot_DRDO"
      ]
    },
    {
      "cell_type": "code",
      "execution_count": null,
      "metadata": {
        "id": "BD25FJK8f--w"
      },
      "outputs": [],
      "source": [
        "!mv /content/drdo_scraped_data.json /content/AIChatbot_DRDO/"
      ]
    },
    {
      "cell_type": "code",
      "execution_count": null,
      "metadata": {
        "id": "-JdWrUdFgQbn"
      },
      "outputs": [],
      "source": [
        "!mv /content/cleaned_drdo_scraped_data.json /content/AIChatbot_DRDO/"
      ]
    },
    {
      "cell_type": "code",
      "execution_count": null,
      "metadata": {
        "colab": {
          "base_uri": "https://localhost:8080/"
        },
        "id": "yatwe095gZOe",
        "outputId": "b0fd3690-e370-4a8d-e6d4-d2683ea30f75"
      },
      "outputs": [
        {
          "name": "stdout",
          "output_type": "stream",
          "text": [
            "cleaned_drdo_scraped_data.json\tdrdo_scraped_data.json\n"
          ]
        }
      ],
      "source": [
        "!ls"
      ]
    },
    {
      "cell_type": "code",
      "execution_count": null,
      "metadata": {
        "colab": {
          "base_uri": "https://localhost:8080/"
        },
        "id": "9OMf6LtCgOkt",
        "outputId": "8101a1ed-125a-4d7b-f525-9cad64527cbd"
      },
      "outputs": [
        {
          "name": "stdout",
          "output_type": "stream",
          "text": [
            "[main 5613099] Added internal files\n",
            " 2 files changed, 120 insertions(+), 120 deletions(-)\n"
          ]
        }
      ],
      "source": [
        "!git add .\n",
        "!git commit -m \"Added internal files\""
      ]
    },
    {
      "cell_type": "code",
      "execution_count": null,
      "metadata": {
        "colab": {
          "base_uri": "https://localhost:8080/"
        },
        "id": "YYG_GvlRhQAh",
        "outputId": "073ff58e-e35d-4485-b791-89a670e54ee0"
      },
      "outputs": [
        {
          "name": "stdout",
          "output_type": "stream",
          "text": [
            "* \u001b[32mmain\u001b[m\n"
          ]
        }
      ],
      "source": [
        "!git branch"
      ]
    },
    {
      "cell_type": "code",
      "execution_count": null,
      "metadata": {
        "colab": {
          "base_uri": "https://localhost:8080/"
        },
        "id": "kOBiA5U5hsTE",
        "outputId": "1bd1e67a-f13c-4dab-93ed-e2628933bb73"
      },
      "outputs": [
        {
          "name": "stdout",
          "output_type": "stream",
          "text": [
            "/content/AIChatbot_DRDO\n"
          ]
        }
      ],
      "source": [
        "%cd /content/AIChatbot_DRDO"
      ]
    },
    {
      "cell_type": "code",
      "execution_count": null,
      "metadata": {
        "id": "EeoOA6w-httS"
      },
      "outputs": [],
      "source": [
        "!git add ."
      ]
    },
    {
      "cell_type": "code",
      "execution_count": null,
      "metadata": {
        "colab": {
          "base_uri": "https://localhost:8080/"
        },
        "id": "qJHQLavfhx2f",
        "outputId": "acb65b60-6f3d-4fea-e4b7-25f611667bf6"
      },
      "outputs": [
        {
          "name": "stdout",
          "output_type": "stream",
          "text": [
            "On branch main\n",
            "Your branch is based on 'origin/main', but the upstream is gone.\n",
            "  (use \"git branch --unset-upstream\" to fixup)\n",
            "\n",
            "nothing to commit, working tree clean\n"
          ]
        }
      ],
      "source": [
        "!git commit -m \"Added more files\""
      ]
    },
    {
      "cell_type": "code",
      "execution_count": null,
      "metadata": {
        "colab": {
          "base_uri": "https://localhost:8080/"
        },
        "id": "sZof2YC_ijEK",
        "outputId": "135ec56d-f961-4acb-abb2-bf3223a3df3d"
      },
      "outputs": [
        {
          "name": "stdout",
          "output_type": "stream",
          "text": [
            "remote: Enumerating objects: 6, done.\u001b[K\n",
            "remote: Counting objects:  16% (1/6)\u001b[K\rremote: Counting objects:  33% (2/6)\u001b[K\rremote: Counting objects:  50% (3/6)\u001b[K\rremote: Counting objects:  66% (4/6)\u001b[K\rremote: Counting objects:  83% (5/6)\u001b[K\rremote: Counting objects: 100% (6/6)\u001b[K\rremote: Counting objects: 100% (6/6), done.\u001b[K\n",
            "remote: Compressing objects:  25% (1/4)\u001b[K\rremote: Compressing objects:  50% (2/4)\u001b[K\rremote: Compressing objects:  75% (3/4)\u001b[K\rremote: Compressing objects: 100% (4/4)\u001b[K\rremote: Compressing objects: 100% (4/4), done.\u001b[K\n",
            "Unpacking objects:  16% (1/6)\rUnpacking objects:  33% (2/6)\rUnpacking objects:  50% (3/6)\rremote: Total 6 (delta 0), reused 0 (delta 0), pack-reused 0 (from 0)\u001b[K\n",
            "Unpacking objects:  66% (4/6)\rUnpacking objects:  83% (5/6)\rUnpacking objects: 100% (6/6)\rUnpacking objects: 100% (6/6), 13.91 KiB | 890.00 KiB/s, done.\n",
            "From https://github.com/MeghnaGup/AIChatbot_DRDO\n",
            " * branch            main       -> FETCH_HEAD\n",
            " * [new branch]      main       -> origin/main\n",
            "\u001b[KSuccessfully rebased and updated refs/heads/main.\n"
          ]
        }
      ],
      "source": [
        "!git pull origin main --rebase"
      ]
    },
    {
      "cell_type": "code",
      "execution_count": null,
      "metadata": {
        "colab": {
          "base_uri": "https://localhost:8080/"
        },
        "id": "FmshCV2Mipe2",
        "outputId": "85e7031a-6c90-4bec-eeee-ced5a9fbf14b"
      },
      "outputs": [
        {
          "name": "stdout",
          "output_type": "stream",
          "text": [
            "Enumerating objects: 9, done.\n",
            "Counting objects:  11% (1/9)\rCounting objects:  22% (2/9)\rCounting objects:  33% (3/9)\rCounting objects:  44% (4/9)\rCounting objects:  55% (5/9)\rCounting objects:  66% (6/9)\rCounting objects:  77% (7/9)\rCounting objects:  88% (8/9)\rCounting objects: 100% (9/9)\rCounting objects: 100% (9/9), done.\n",
            "Delta compression using up to 2 threads\n",
            "Compressing objects: 100% (8/8), done.\n",
            "error: RPC failed; HTTP 408 curl 22 The requested URL returned error: 408\n",
            "send-pack: unexpected disconnect while reading sideband packet\n",
            "Writing objects: 100% (8/8), 129.44 MiB | 1.76 MiB/s, done.\n",
            "Total 8 (delta 4), reused 0 (delta 0), pack-reused 0\n",
            "fatal: the remote end hung up unexpectedly\n",
            "Everything up-to-date\n"
          ]
        }
      ],
      "source": [
        "!git push origin main"
      ]
    },
    {
      "cell_type": "code",
      "execution_count": null,
      "metadata": {
        "colab": {
          "base_uri": "https://localhost:8080/",
          "height": 35
        },
        "id": "6C8sOm92sXxd",
        "outputId": "79c6b858-7e33-4479-cb7f-30d30f3f97b5"
      },
      "outputs": [
        {
          "data": {
            "application/vnd.google.colaboratory.intrinsic+json": {
              "type": "string"
            },
            "text/plain": [
              "'/content/AIChatbot_DRDO/drdo_scraped.zip'"
            ]
          },
          "execution_count": 50,
          "metadata": {},
          "output_type": "execute_result"
        }
      ],
      "source": [
        "import shutil\n",
        "\n",
        "# Compress only the two large JSON files\n",
        "shutil.make_archive(\"drdo_data\", 'zip', \".\", \"cleaned_drdo_scraped_data.json\")\n",
        "shutil.make_archive(\"drdo_scraped\", 'zip', \".\", \"drdo_scraped_data.json\")"
      ]
    },
    {
      "cell_type": "code",
      "execution_count": null,
      "metadata": {
        "id": "sQ-IUngr8_ES"
      },
      "outputs": [],
      "source": [
        "!git config --global user.email \"meghu.gup@gmail.com\"\n",
        "!git config --global user.name \"MeghnaGup\""
      ]
    },
    {
      "cell_type": "code",
      "execution_count": null,
      "metadata": {
        "colab": {
          "base_uri": "https://localhost:8080/"
        },
        "id": "gtrarYgO9IZT",
        "outputId": "54f403cb-7353-4d4b-f255-488e4ac52663"
      },
      "outputs": [
        {
          "name": "stdout",
          "output_type": "stream",
          "text": [
            "[main 3cb22fb] Added ZIP file\n",
            " 1 file changed, 0 insertions(+), 0 deletions(-)\n",
            " create mode 100644 drdo_data.zip\n"
          ]
        }
      ],
      "source": [
        "!git add drdo_data.zip\n",
        "!git commit -m \"Added ZIP file\""
      ]
    },
    {
      "cell_type": "code",
      "execution_count": null,
      "metadata": {
        "colab": {
          "base_uri": "https://localhost:8080/"
        },
        "id": "QLAMMjso9UnR",
        "outputId": "f1375862-cffd-4e4f-b28a-968cc3936624"
      },
      "outputs": [
        {
          "name": "stdout",
          "output_type": "stream",
          "text": [
            "[main fcd28fb] Added ZIP file\n",
            " 1 file changed, 0 insertions(+), 0 deletions(-)\n",
            " create mode 100644 drdo_scraped.zip\n"
          ]
        }
      ],
      "source": [
        "!git add drdo_scraped.zip\n",
        "!git commit -m \"Added ZIP file\""
      ]
    },
    {
      "cell_type": "code",
      "execution_count": 26,
      "metadata": {
        "id": "_v0pakUeV_yj"
      },
      "outputs": [],
      "source": [
        "import pickle\n",
        "import numpy as np\n",
        "from sentence_transformers import SentenceTransformer\n",
        "\n",
        "def process_in_chunks(text_list, model, chunk_size, file_prefix, output_path):\n",
        "    \"\"\"\n",
        "    Splits text data into chunks, processes embeddings, and saves them separately.\n",
        "\n",
        "    Parameters:\n",
        "        text_list (list): The list of texts to be embedded.\n",
        "        model (SentenceTransformer): The embedding model.\n",
        "        chunk_size (int): Number of texts per chunk.\n",
        "        file_prefix (str): Prefix for output file names.\n",
        "        output_path (str): Path to save the files.\n",
        "    \"\"\"\n",
        "    total_chunks = (len(text_list) + chunk_size - 1) // chunk_size  # Calculate number of chunks\n",
        "\n",
        "    for i in range(total_chunks):\n",
        "        start_idx = i * chunk_size\n",
        "        end_idx = min((i + 1) * chunk_size, len(text_list))\n",
        "\n",
        "        chunk_texts = text_list[start_idx:end_idx]  # Extract chunk\n",
        "        chunk_embeddings = model.encode(chunk_texts, convert_to_numpy=True)  # Generate embeddings\n",
        "\n",
        "        # Save each chunk separately\n",
        "        file_name = f\"{output_path}{file_prefix}_part{i+1}.pkl\"\n",
        "        with open(file_name, \"wb\") as f:\n",
        "            pickle.dump(chunk_embeddings, f)\n",
        "\n",
        "        print(f\"Saved {file_name} ({len(chunk_texts)} embeddings)\")\n"
      ]
    },
    {
      "cell_type": "code",
      "execution_count": null,
      "metadata": {
        "colab": {
          "base_uri": "https://localhost:8080/"
        },
        "id": "-1hQHM7iWDnY",
        "outputId": "4b9f1d10-fb99-4290-e1c6-c2ce6f9f2671"
      },
      "outputs": [
        {
          "name": "stdout",
          "output_type": "stream",
          "text": [
            "Saved /content/drive/My Drive/drdo_data/scraped_embeddings_part1.pkl (3 embeddings)\n",
            "Saved /content/drive/My Drive/drdo_data/scraped_embeddings_part2.pkl (3 embeddings)\n",
            "Saved /content/drive/My Drive/drdo_data/scraped_embeddings_part3.pkl (3 embeddings)\n",
            "Saved /content/drive/My Drive/drdo_data/scraped_embeddings_part4.pkl (3 embeddings)\n",
            "Saved /content/drive/My Drive/drdo_data/scraped_embeddings_part5.pkl (3 embeddings)\n",
            "Saved /content/drive/My Drive/drdo_data/scraped_embeddings_part6.pkl (3 embeddings)\n",
            "Saved /content/drive/My Drive/drdo_data/scraped_embeddings_part7.pkl (3 embeddings)\n",
            "Saved /content/drive/My Drive/drdo_data/scraped_embeddings_part8.pkl (3 embeddings)\n",
            "Saved /content/drive/My Drive/drdo_data/scraped_embeddings_part9.pkl (3 embeddings)\n",
            "Saved /content/drive/My Drive/drdo_data/scraped_embeddings_part10.pkl (3 embeddings)\n",
            "Saved /content/drive/My Drive/drdo_data/scraped_embeddings_part11.pkl (3 embeddings)\n",
            "Saved /content/drive/My Drive/drdo_data/scraped_embeddings_part12.pkl (3 embeddings)\n"
          ]
        }
      ],
      "source": [
        "# Initialize model\n",
        "model = SentenceTransformer(\"all-MiniLM-L6-v2\")\n",
        "\n",
        "# Define paths\n",
        "output_path = \"/content/drive/My Drive/drdo_data/\"\n",
        "num_parts = 20  # Divide into 20 parts\n",
        "\n",
        "# Process Scraped Data in Chunks\n",
        "scraped_texts = list(drdo_scraped.values())\n",
        "chunk_size = max(1, len(scraped_texts) // num_parts)  # Ensure chunk_size is at least 1\n",
        "process_in_chunks(scraped_texts, model, chunk_size, \"scraped_embeddings\", output_path)\n",
        "\n",
        "# Process Cleaned Data in Chunks\n",
        "cleaned_texts = list(drdo_cleaned.values())\n",
        "chunk_size = max(1, len(cleaned_texts) // num_parts)  # Ensure chunk_size is at least 1\n",
        "process_in_chunks(cleaned_texts, model, chunk_size, \"cleaned_embeddings\", output_path)\n",
        "\n",
        "print(\"All embeddings processed and saved in 5 parts.\")\n",
        "\n"
      ]
    },
    {
      "cell_type": "code",
      "source": [
        "import pickle\n",
        "import numpy as np\n",
        "import gc\n",
        "from sentence_transformers import SentenceTransformer\n",
        "\n",
        "def process_in_chunks(text_list, model, chunk_size, file_prefix, output_path):\n",
        "    \"\"\"\n",
        "    Splits text data into chunks, processes embeddings, and saves them separately.\n",
        "\n",
        "    Parameters:\n",
        "        text_list (list): The list of texts to be embedded.\n",
        "        model (SentenceTransformer): The embedding model.\n",
        "        chunk_size (int): Number of texts per chunk.\n",
        "        file_prefix (str): Prefix for output file names.\n",
        "        output_path (str): Path to save the files.\n",
        "    \"\"\"\n",
        "    total_chunks = (len(text_list) + chunk_size - 1) // chunk_size  # Number of chunks\n",
        "\n",
        "    for i in range(total_chunks):\n",
        "        start_idx = i * chunk_size\n",
        "        end_idx = min((i + 1) * chunk_size, len(text_list))\n",
        "\n",
        "        chunk_texts = text_list[start_idx:end_idx]  # Get chunk\n",
        "        chunk_embeddings = model.encode(chunk_texts, convert_to_numpy=True)  # Generate embeddings\n",
        "\n",
        "        # Save each chunk separately\n",
        "        file_name = f\"{output_path}{file_prefix}_part{i+1}.pkl\"\n",
        "        with open(file_name, \"wb\") as f:\n",
        "            pickle.dump(chunk_embeddings, f)\n",
        "\n",
        "        print(f\"Saved {file_name} ({len(chunk_texts)} embeddings)\")\n",
        "\n",
        "        # Free up memory\n",
        "        del chunk_embeddings\n",
        "        gc.collect()\n",
        "\n",
        "# Reinitialize model (to free up memory)\n",
        "model = SentenceTransformer(\"all-MiniLM-L6-v2\")\n",
        "\n",
        "# Define paths\n",
        "output_path = \"/content/drive/My Drive/drdo_data/\"\n",
        "num_parts = 30  # Adjust based on memory availability\n",
        "\n",
        "# Process Cleaned Data in Chunks\n",
        "cleaned_texts = list(drdo_cleaned.values())\n",
        "chunk_size = max(1, len(cleaned_texts) // num_parts)  # Ensure at least 1 item per chunk\n",
        "process_in_chunks(cleaned_texts, model, chunk_size, \"cleaned_embeddings\", output_path)\n",
        "\n",
        "print(\"Cleaned data embeddings processed successfully.\")\n",
        "\n",
        "# Free up memory at the end\n",
        "del model\n",
        "gc.collect()\n"
      ],
      "metadata": {
        "colab": {
          "base_uri": "https://localhost:8080/"
        },
        "id": "rSgDkzm3vtyz",
        "outputId": "d1d19bd0-eeab-458d-9b3a-5db5fea7f267"
      },
      "execution_count": null,
      "outputs": [
        {
          "output_type": "stream",
          "name": "stdout",
          "text": [
            "Saved /content/drive/My Drive/drdo_data/cleaned_embeddings_part1.pkl (2 embeddings)\n",
            "Saved /content/drive/My Drive/drdo_data/cleaned_embeddings_part2.pkl (2 embeddings)\n",
            "Saved /content/drive/My Drive/drdo_data/cleaned_embeddings_part3.pkl (2 embeddings)\n",
            "Saved /content/drive/My Drive/drdo_data/cleaned_embeddings_part4.pkl (2 embeddings)\n",
            "Saved /content/drive/My Drive/drdo_data/cleaned_embeddings_part5.pkl (2 embeddings)\n",
            "Saved /content/drive/My Drive/drdo_data/cleaned_embeddings_part6.pkl (2 embeddings)\n",
            "Saved /content/drive/My Drive/drdo_data/cleaned_embeddings_part7.pkl (2 embeddings)\n",
            "Saved /content/drive/My Drive/drdo_data/cleaned_embeddings_part8.pkl (2 embeddings)\n",
            "Saved /content/drive/My Drive/drdo_data/cleaned_embeddings_part9.pkl (2 embeddings)\n",
            "Saved /content/drive/My Drive/drdo_data/cleaned_embeddings_part10.pkl (2 embeddings)\n",
            "Saved /content/drive/My Drive/drdo_data/cleaned_embeddings_part11.pkl (2 embeddings)\n",
            "Saved /content/drive/My Drive/drdo_data/cleaned_embeddings_part12.pkl (2 embeddings)\n",
            "Saved /content/drive/My Drive/drdo_data/cleaned_embeddings_part13.pkl (2 embeddings)\n",
            "Saved /content/drive/My Drive/drdo_data/cleaned_embeddings_part14.pkl (2 embeddings)\n",
            "Saved /content/drive/My Drive/drdo_data/cleaned_embeddings_part15.pkl (2 embeddings)\n",
            "Saved /content/drive/My Drive/drdo_data/cleaned_embeddings_part16.pkl (2 embeddings)\n",
            "Saved /content/drive/My Drive/drdo_data/cleaned_embeddings_part17.pkl (2 embeddings)\n",
            "Saved /content/drive/My Drive/drdo_data/cleaned_embeddings_part18.pkl (2 embeddings)\n",
            "Saved /content/drive/My Drive/drdo_data/cleaned_embeddings_part19.pkl (2 embeddings)\n",
            "Saved /content/drive/My Drive/drdo_data/cleaned_embeddings_part20.pkl (2 embeddings)\n",
            "Saved /content/drive/My Drive/drdo_data/cleaned_embeddings_part21.pkl (2 embeddings)\n",
            "Saved /content/drive/My Drive/drdo_data/cleaned_embeddings_part22.pkl (2 embeddings)\n",
            "Saved /content/drive/My Drive/drdo_data/cleaned_embeddings_part23.pkl (2 embeddings)\n",
            "Saved /content/drive/My Drive/drdo_data/cleaned_embeddings_part24.pkl (2 embeddings)\n",
            "Saved /content/drive/My Drive/drdo_data/cleaned_embeddings_part25.pkl (2 embeddings)\n"
          ]
        }
      ]
    }
  ],
  "metadata": {
    "colab": {
      "provenance": [],
      "mount_file_id": "1p65MmIaRbjAPprAkoQGrnkaX_AGSXTYU",
      "authorship_tag": "ABX9TyNkoh4dxOXWBaEImzdLDjT6",
      "include_colab_link": true
    },
    "kernelspec": {
      "display_name": "Python 3",
      "name": "python3"
    },
    "language_info": {
      "name": "python"
    }
  },
  "nbformat": 4,
  "nbformat_minor": 0
}